{
 "cells": [
  {
   "cell_type": "markdown",
   "metadata": {},
   "source": [
    "# North Korean News\n",
    "\n",
    "Scrape the North Korean news agency http://kcna.kp\n",
    "\n",
    "Save a CSV called `nk-news.csv`. This file should include:\n",
    "\n",
    "* The **article headline**\n",
    "* The value of **`onclick`** (they don't have normal links)\n",
    "* The **article ID** (for example, the article ID for `fn_showArticle(\"AR0125885\", \"\", \"NT00\", \"L\")` is `AR0125885`\n",
    "\n",
    "The last part is easiest using pandas. Be sure you don't save the index!\n",
    "\n",
    "* _**Tip:** If you're using requests+BeautifulSoup, you can always look at response.text to see if the page looks like what you think it looks like_\n",
    "* _**Tip:** Check your URL to make sure it is what you think it should be!_\n",
    "* _**Tip:** Does it look different if you scrape with BeautifulSoup compared to if you scrape it with Selenium?_\n",
    "* _**Tip:** For the last part, how do you pull out part of a string from a longer string?_\n",
    "* _**Tip:** `expand=False` is helpful if you want to assign a single new column when extracting_\n",
    "* _**Tip:** `(` and `)` mean something special in regular expressions, so you have to say \"no really seriously I mean `(`\" by using `\\(` instead_\n",
    "* _**Tip:** if your `.*` is taking up too much stuff, you can try `.*?` instead, which instead of \"take as much as possible\" it means \"take only as much as needed\"_"
   ]
  },
  {
   "cell_type": "code",
   "execution_count": 11,
   "metadata": {},
   "outputs": [],
   "source": []
  }
 ],
 "metadata": {
  "kernelspec": {
   "display_name": "Python 3",
   "language": "python",
   "name": "python3"
  },
  "language_info": {
   "codemirror_mode": {
    "name": "ipython",
    "version": 3
   },
   "file_extension": ".py",
   "mimetype": "text/x-python",
   "name": "python",
   "nbconvert_exporter": "python",
   "pygments_lexer": "ipython3",
   "version": "3.6.7"
  }
 },
 "nbformat": 4,
 "nbformat_minor": 2
}

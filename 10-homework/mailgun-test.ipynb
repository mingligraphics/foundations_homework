{
 "cells": [
  {
   "cell_type": "code",
   "execution_count": 1,
   "metadata": {},
   "outputs": [],
   "source": [
    "import requests"
   ]
  },
  {
   "cell_type": "code",
   "execution_count": 2,
   "metadata": {},
   "outputs": [
    {
     "data": {
      "text/plain": [
       "'{\\n  \"message\": \"Sandbox subdomains are for test purposes only. Please add your own domain or add the address to authorized recipients in Account Settings.\"\\n}'"
      ]
     },
     "execution_count": 2,
     "metadata": {},
     "output_type": "execute_result"
    }
   ],
   "source": [
    "response = requests.post(\n",
    "        \"https://api.mailgun.net/v3/sandbox6cbc39354062409880d2eb8816f5d302.mailgun.org/messages\",\n",
    "        auth=(\"api\", \"9a6f236bec3de0cb631e296209131f52-39bc661a-b52bedb2\"),\n",
    "        data={\"from\": \"Excited User <mailgun@sandbox6cbc39354062409880d2eb8816f5d302.mailgun.org>\",\n",
    "              \"to\": [\"ml4065@columbia.edu\", \"YOU@sandbox6cbc39354062409880d2eb8816f5d302.mailgun.org\"],\n",
    "              \"subject\": \"Hello\",\n",
    "              \"text\": \"Testing some Mailgun awesomness!\"}) \n",
    "response.text"
   ]
  },
  {
   "cell_type": "code",
   "execution_count": 3,
   "metadata": {},
   "outputs": [],
   "source": [
    "# requests.post(\n",
    "#         \"https://api.mailgun.net/v3/sandbox6cbc39354062409880d2eb8816f5d302.mailgun.org/messages\",\n",
    "#         auth=(\"api\", \"9a6f236bec3de0cb631e296209131f52-39bc661a-b52bedb2\"),\n",
    "#         data={\"from\": \"Excited User <mailgun@sandbox6cbc39354062409880d2eb8816f5d302.mailgun.org>\",\n",
    "#               \"to\": [\"ml4065@columbia.edu\", \"YOU@sandbox6cbc39354062409880d2eb8816f5d302.mailgun.org\"],\n",
    "#               \"subject\": \"Hello\",\n",
    "#               \"text\": \"Testing some Mailgun awesomness!\"}) "
   ]
  },
  {
   "cell_type": "code",
   "execution_count": null,
   "metadata": {},
   "outputs": [],
   "source": []
  }
 ],
 "metadata": {
  "kernelspec": {
   "display_name": "Python 3",
   "language": "python",
   "name": "python3"
  },
  "language_info": {
   "codemirror_mode": {
    "name": "ipython",
    "version": 3
   },
   "file_extension": ".py",
   "mimetype": "text/x-python",
   "name": "python",
   "nbconvert_exporter": "python",
   "pygments_lexer": "ipython3",
   "version": "3.7.1"
  }
 },
 "nbformat": 4,
 "nbformat_minor": 2
}

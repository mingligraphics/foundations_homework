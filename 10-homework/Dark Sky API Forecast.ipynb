{
 "cells": [
  {
   "cell_type": "code",
   "execution_count": 1,
   "metadata": {},
   "outputs": [],
   "source": [
    "import requests"
   ]
  },
  {
   "cell_type": "code",
   "execution_count": 2,
   "metadata": {},
   "outputs": [],
   "source": [
    "api_key = \"\"\n",
    "url = f\"https://api.darksky.net/forecast/{api_key}/40.7128,-74.0060\""
   ]
  },
  {
   "cell_type": "code",
   "execution_count": 3,
   "metadata": {},
   "outputs": [],
   "source": [
    "response = requests.get(url)\n",
    "data = response.json()"
   ]
  },
  {
   "cell_type": "code",
   "execution_count": 4,
   "metadata": {},
   "outputs": [],
   "source": [
    "TEMPERATURE = data['currently']['temperature']\n",
    "SUMMARY = data['currently']['summary']\n",
    "HIGH_TEMP = data['daily']['data'][0]['temperatureHigh']\n",
    "LOW_TEMP = data['daily']['data'][0]['temperatureLow']\n",
    "if HIGH_TEMP > 78:\n",
    "    TEMP_FEELING = \"hot\"\n",
    "elif HIGH_TEMP > 70:\n",
    "    TEMP_FEELING = \"warm\"\n",
    "else:\n",
    "    TEMP_FEELING = \"cold\"\n",
    "    \n",
    "if \"Rain\" in data['daily']['data'][0]['summary']:\n",
    "    RAIN_WARNING = \"Bring your umbrella!\"\n",
    "else:\n",
    "    RAIN_WARNING = \"\"\n",
    "    \n",
    "\n"
   ]
  },
  {
   "cell_type": "code",
   "execution_count": 5,
   "metadata": {},
   "outputs": [
    {
     "name": "stdout",
     "output_type": "stream",
     "text": [
      "Right now it is 73.12 degrees out and Clear.\n",
      "Today will be hot with a high of 80.76 degrees and a low of 64.37 degrees.\n",
      "\n"
     ]
    }
   ],
   "source": [
    "print(\"Right now it is \" + str(TEMPERATURE) + \" degrees out and \" + SUMMARY + \".\\nToday will be \" + TEMP_FEELING + \" with a high of \" + str(HIGH_TEMP) + \" degrees and a low of \" + str(LOW_TEMP) + \" degrees.\\n\" + RAIN_WARNING)"
   ]
  }
 ],
 "metadata": {
  "kernelspec": {
   "display_name": "Python 3",
   "language": "python",
   "name": "python3"
  },
  "language_info": {
   "codemirror_mode": {
    "name": "ipython",
    "version": 3
   },
   "file_extension": ".py",
   "mimetype": "text/x-python",
   "name": "python",
   "nbconvert_exporter": "python",
   "pygments_lexer": "ipython3",
   "version": "3.7.1"
  }
 },
 "nbformat": 4,
 "nbformat_minor": 2
}

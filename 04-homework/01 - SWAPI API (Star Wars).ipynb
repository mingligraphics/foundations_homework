{
 "cells": [
  {
   "cell_type": "markdown",
   "metadata": {},
   "source": [
    "# SWAPI (Star Wars)\n",
    "\n",
    "Answer the following questions using the [Star Wars](https://swapi.co/). I've added three cells for each question but you're free to use more or less! Hold `Shift` and hit `Enter` to run a cell, and use the `+` on the top left to add a new cell to a notebook.\n",
    "\n",
    "If you spend some time reading the documentation your life will probably be a little bit easier!\n",
    "\n",
    "## 0) Import any libraries you might need\n",
    "\n",
    "- *Tip: We're going to be downloading things from the internet, so we probably need `requests`.*"
   ]
  },
  {
   "cell_type": "code",
   "execution_count": 1,
   "metadata": {},
   "outputs": [],
   "source": [
    "import requests"
   ]
  },
  {
   "cell_type": "markdown",
   "metadata": {},
   "source": [
    "## 1) Make a request to the Star Wars API\n",
    "\n",
    "I've heard there's a new Star Wars film called **Solo**, but it isn't in SWAPI!\n",
    "\n",
    "The most recent film it contains has an ID of 7. Make a request for that film and look at the data."
   ]
  },
  {
   "cell_type": "code",
   "execution_count": 2,
   "metadata": {},
   "outputs": [],
   "source": [
    "response = requests.get('https://swapi.co/api/films/7/')\n",
    "data = response.json()"
   ]
  },
  {
   "cell_type": "code",
   "execution_count": 3,
   "metadata": {},
   "outputs": [
    {
     "data": {
      "text/plain": [
       "dict"
      ]
     },
     "execution_count": 3,
     "metadata": {},
     "output_type": "execute_result"
    }
   ],
   "source": [
    "type(data)"
   ]
  },
  {
   "cell_type": "code",
   "execution_count": 4,
   "metadata": {},
   "outputs": [
    {
     "data": {
      "text/plain": [
       "dict_keys(['title', 'episode_id', 'opening_crawl', 'director', 'producer', 'release_date', 'characters', 'planets', 'starships', 'vehicles', 'species', 'created', 'edited', 'url'])"
      ]
     },
     "execution_count": 4,
     "metadata": {},
     "output_type": "execute_result"
    }
   ],
   "source": [
    "data.keys()"
   ]
  },
  {
   "cell_type": "markdown",
   "metadata": {},
   "source": [
    "## 2) What is that film's name, and when was it released?\n",
    "\n",
    "Please print **only** the title and the release date. You can guess at the keys, but I recommend checking the documentation."
   ]
  },
  {
   "cell_type": "code",
   "execution_count": 5,
   "metadata": {},
   "outputs": [
    {
     "data": {
      "text/plain": [
       "'The Force Awakens'"
      ]
     },
     "execution_count": 5,
     "metadata": {},
     "output_type": "execute_result"
    }
   ],
   "source": [
    "data['title']"
   ]
  },
  {
   "cell_type": "code",
   "execution_count": 6,
   "metadata": {},
   "outputs": [
    {
     "data": {
      "text/plain": [
       "'2015-12-11'"
      ]
     },
     "execution_count": 6,
     "metadata": {},
     "output_type": "execute_result"
    }
   ],
   "source": [
    "data['release_date']"
   ]
  },
  {
   "cell_type": "markdown",
   "metadata": {},
   "source": [
    "## 3) But I want Han Solo! Use the API to search for people named \"Solo\"."
   ]
  },
  {
   "cell_type": "code",
   "execution_count": 7,
   "metadata": {},
   "outputs": [
    {
     "name": "stdout",
     "output_type": "stream",
     "text": [
      "dict_keys(['count', 'next', 'previous', 'results'])\n"
     ]
    }
   ],
   "source": [
    "response = requests.get('https://swapi.co/api/people')\n",
    "data = response.json()\n",
    "print(data.keys())"
   ]
  },
  {
   "cell_type": "code",
   "execution_count": 8,
   "metadata": {},
   "outputs": [],
   "source": [
    "peoples = []\n",
    "\n",
    "for i in range(1, data['count'] + 1):\n",
    "    people_url = 'https://swapi.co/api/people/' + str(i)+'/'\n",
    "    response = requests.get(people_url)\n",
    "    peoples.append(response.json())\n"
   ]
  },
  {
   "cell_type": "code",
   "execution_count": 9,
   "metadata": {},
   "outputs": [
    {
     "name": "stdout",
     "output_type": "stream",
     "text": [
      "{'name': 'Luke Skywalker', 'height': '172', 'mass': '77', 'hair_color': 'blond', 'skin_color': 'fair', 'eye_color': 'blue', 'birth_year': '19BBY', 'gender': 'male', 'homeworld': 'https://swapi.co/api/planets/1/', 'films': ['https://swapi.co/api/films/2/', 'https://swapi.co/api/films/6/', 'https://swapi.co/api/films/3/', 'https://swapi.co/api/films/1/', 'https://swapi.co/api/films/7/'], 'species': ['https://swapi.co/api/species/1/'], 'vehicles': ['https://swapi.co/api/vehicles/14/', 'https://swapi.co/api/vehicles/30/'], 'starships': ['https://swapi.co/api/starships/12/', 'https://swapi.co/api/starships/22/'], 'created': '2014-12-09T13:50:51.644000Z', 'edited': '2014-12-20T21:17:56.891000Z', 'url': 'https://swapi.co/api/people/1/'}\n"
     ]
    }
   ],
   "source": [
    "len(peoples)\n",
    "print(peoples[0])"
   ]
  },
  {
   "cell_type": "code",
   "execution_count": 17,
   "metadata": {},
   "outputs": [],
   "source": [
    "peoples_info = []\n",
    "for j in range(0, len(peoples)):\n",
    "    if \"name\" in peoples[j].keys():\n",
    "        peoples_info.append(peoples[j])   "
   ]
  },
  {
   "cell_type": "code",
   "execution_count": 18,
   "metadata": {
    "scrolled": true
   },
   "outputs": [
    {
     "name": "stdout",
     "output_type": "stream",
     "text": [
      "{'name': 'Han Solo', 'height': '180', 'mass': '80', 'hair_color': 'brown', 'skin_color': 'fair', 'eye_color': 'brown', 'birth_year': '29BBY', 'gender': 'male', 'homeworld': 'https://swapi.co/api/planets/22/', 'films': ['https://swapi.co/api/films/2/', 'https://swapi.co/api/films/3/', 'https://swapi.co/api/films/1/', 'https://swapi.co/api/films/7/'], 'species': ['https://swapi.co/api/species/1/'], 'vehicles': [], 'starships': ['https://swapi.co/api/starships/10/', 'https://swapi.co/api/starships/22/'], 'created': '2014-12-10T16:49:14.582000Z', 'edited': '2014-12-20T21:17:50.334000Z', 'url': 'https://swapi.co/api/people/14/'}\n"
     ]
    }
   ],
   "source": [
    "for k in range(0, len(peoples_info)):\n",
    "    if peoples_info[k]['name'] == 'Han Solo':\n",
    "        print(peoples_info[k])"
   ]
  },
  {
   "cell_type": "markdown",
   "metadata": {},
   "source": [
    "## 4) How many results did you get?\n",
    "\n",
    "Show **two different ways** of displaying this number.\n",
    "\n",
    "- *Tip: One uses the API, and one uses a Python function*"
   ]
  },
  {
   "cell_type": "code",
   "execution_count": 19,
   "metadata": {},
   "outputs": [
    {
     "name": "stdout",
     "output_type": "stream",
     "text": [
      "The number of people who are named Solo is 1\n"
     ]
    }
   ],
   "source": [
    "count = 0\n",
    "for k in range(0, len(peoples_info)):\n",
    "    if peoples_info[k]['name'] == 'Han Solo':\n",
    "        count = count + 1\n",
    "print(\"The number of people who are named Solo is\", count)\n"
   ]
  },
  {
   "cell_type": "code",
   "execution_count": 20,
   "metadata": {},
   "outputs": [
    {
     "name": "stdout",
     "output_type": "stream",
     "text": [
      "dict_keys(['count', 'next', 'previous', 'results'])\n",
      "None\n"
     ]
    }
   ],
   "source": [
    "response = requests.get('https://swapi.co/api/people/?search=Han Solo')\n",
    "data = response.json()\n",
    "print(data.keys())\n",
    "print(data['next'])\n"
   ]
  },
  {
   "cell_type": "code",
   "execution_count": 21,
   "metadata": {},
   "outputs": [
    {
     "name": "stdout",
     "output_type": "stream",
     "text": [
      "The number of people who are named Solo is 1\n"
     ]
    }
   ],
   "source": [
    "count_solo = data['count']\n",
    "print(\"The number of people who are named Solo is\", count_solo)\n",
    "        "
   ]
  },
  {
   "cell_type": "markdown",
   "metadata": {},
   "source": [
    "## 5) Write me a sentence about Han Solo\n",
    "\n",
    "Your sentence should be say `\"____ has _____ hair, is _____cm tall and weighs ____kg.\"` - make sure you have **no spcaes** between the numbers and `cm`/`kg`."
   ]
  },
  {
   "cell_type": "code",
   "execution_count": 23,
   "metadata": {},
   "outputs": [
    {
     "name": "stdout",
     "output_type": "stream",
     "text": [
      "Han Solo has brown hair, is 180 cm tall and weighs 80 kg.\n"
     ]
    }
   ],
   "source": [
    "for k in range(0, len(peoples_info)):\n",
    "    if peoples_info[k]['name'] == 'Han Solo':\n",
    "        Solo = peoples_info[k]\n",
    "        print(Solo['name'], \"has\", Solo['hair_color'], \"hair, is\", Solo['height'], \"cm tall and weighs\", Solo['mass'], \"kg.\")"
   ]
  },
  {
   "cell_type": "markdown",
   "metadata": {},
   "source": [
    "## 5) Search for C-3PO"
   ]
  },
  {
   "cell_type": "code",
   "execution_count": 24,
   "metadata": {},
   "outputs": [
    {
     "name": "stdout",
     "output_type": "stream",
     "text": [
      "{'name': 'C-3PO', 'height': '167', 'mass': '75', 'hair_color': 'n/a', 'skin_color': 'gold', 'eye_color': 'yellow', 'birth_year': '112BBY', 'gender': 'n/a', 'homeworld': 'https://swapi.co/api/planets/1/', 'films': ['https://swapi.co/api/films/2/', 'https://swapi.co/api/films/5/', 'https://swapi.co/api/films/4/', 'https://swapi.co/api/films/6/', 'https://swapi.co/api/films/3/', 'https://swapi.co/api/films/1/'], 'species': ['https://swapi.co/api/species/2/'], 'vehicles': [], 'starships': [], 'created': '2014-12-10T15:10:51.357000Z', 'edited': '2014-12-20T21:17:50.309000Z', 'url': 'https://swapi.co/api/people/2/'}\n"
     ]
    }
   ],
   "source": [
    "for k in range(0, len(peoples_info)):\n",
    "    if peoples_info[k]['name'] == 'C-3PO':\n",
    "        PO = peoples_info[k]\n",
    "        print(PO)"
   ]
  },
  {
   "cell_type": "markdown",
   "metadata": {},
   "source": [
    "## 6) What URL can tell me more about his species? Make a request to the corrent endpoint.\n",
    "\n",
    "Spoiler: he's a **droid**. Are robots a species? I guess so, maybe."
   ]
  },
  {
   "cell_type": "code",
   "execution_count": 25,
   "metadata": {},
   "outputs": [],
   "source": [
    "url_PO_species = PO['species'][0]"
   ]
  },
  {
   "cell_type": "code",
   "execution_count": 26,
   "metadata": {},
   "outputs": [
    {
     "data": {
      "text/plain": [
       "{'name': 'Droid',\n",
       " 'classification': 'artificial',\n",
       " 'designation': 'sentient',\n",
       " 'average_height': 'n/a',\n",
       " 'skin_colors': 'n/a',\n",
       " 'hair_colors': 'n/a',\n",
       " 'eye_colors': 'n/a',\n",
       " 'average_lifespan': 'indefinite',\n",
       " 'homeworld': None,\n",
       " 'language': 'n/a',\n",
       " 'people': ['https://swapi.co/api/people/2/',\n",
       "  'https://swapi.co/api/people/3/',\n",
       "  'https://swapi.co/api/people/8/',\n",
       "  'https://swapi.co/api/people/23/',\n",
       "  'https://swapi.co/api/people/87/'],\n",
       " 'films': ['https://swapi.co/api/films/2/',\n",
       "  'https://swapi.co/api/films/7/',\n",
       "  'https://swapi.co/api/films/5/',\n",
       "  'https://swapi.co/api/films/4/',\n",
       "  'https://swapi.co/api/films/6/',\n",
       "  'https://swapi.co/api/films/3/',\n",
       "  'https://swapi.co/api/films/1/'],\n",
       " 'created': '2014-12-10T15:16:16.259000Z',\n",
       " 'edited': '2015-04-17T06:59:43.869528Z',\n",
       " 'url': 'https://swapi.co/api/species/2/'}"
      ]
     },
     "execution_count": 26,
     "metadata": {},
     "output_type": "execute_result"
    }
   ],
   "source": [
    "response = requests.get(url_PO_species)\n",
    "PO_species = response.json()\n",
    "PO_species"
   ]
  },
  {
   "cell_type": "markdown",
   "metadata": {},
   "source": [
    "## 7) Print out the URL of every droid\n",
    "\n",
    "* *Tip: life will be easier if you don't say `for droid in...` or `for person in` because you aren't looping through droids or people. What are you looping through?*"
   ]
  },
  {
   "cell_type": "code",
   "execution_count": 27,
   "metadata": {},
   "outputs": [
    {
     "name": "stdout",
     "output_type": "stream",
     "text": [
      "https://swapi.co/api/people/2/\n",
      "https://swapi.co/api/people/3/\n",
      "https://swapi.co/api/people/8/\n",
      "https://swapi.co/api/people/23/\n",
      "https://swapi.co/api/people/87/\n"
     ]
    }
   ],
   "source": [
    "for url_people_driod in PO_species['people']:\n",
    "    print(url_people_driod)"
   ]
  },
  {
   "cell_type": "markdown",
   "metadata": {},
   "source": [
    "## 8) Print out the name of every droid\n",
    "\n",
    "* *Tip: You should start from the last answer, but add more stuff in!*\n",
    "* *Tip: You'll need to make a request every time you're in the loop*\n",
    "* *Tip: Be careful - f you re-use the variable name `data` you'll erase your old `data` variable*"
   ]
  },
  {
   "cell_type": "code",
   "execution_count": 28,
   "metadata": {},
   "outputs": [
    {
     "name": "stdout",
     "output_type": "stream",
     "text": [
      "C-3PO\n",
      "R2-D2\n",
      "R5-D4\n",
      "IG-88\n",
      "BB8\n"
     ]
    }
   ],
   "source": [
    "droids_url = PO_species['people']\n",
    "droid_peoples = []\n",
    "for droid_url in droids_url:\n",
    "    response = requests.get(droid_url)\n",
    "    droid_peoples.append(response.json())\n",
    "    \n",
    "for droid_people in droid_peoples:\n",
    "    print(droid_people['name'])\n"
   ]
  },
  {
   "cell_type": "markdown",
   "metadata": {},
   "source": [
    "## 9) Print out more about the droid\n",
    "\n",
    "Count the number of films for each droid, printing `\"___ was in ___ films\"` for each of them\n",
    "\n",
    "* *Tip: You might want to look at a single droid result, or print the data in the for loop, so you know how to get the films. Or read the documentation!*"
   ]
  },
  {
   "cell_type": "code",
   "execution_count": 29,
   "metadata": {},
   "outputs": [
    {
     "name": "stdout",
     "output_type": "stream",
     "text": [
      "C-3PO was in 6 films\n",
      "------------------------------------------------------\n",
      "R2-D2 was in 7 films\n",
      "------------------------------------------------------\n",
      "R5-D4 was in 1 films\n",
      "------------------------------------------------------\n",
      "IG-88 was in 1 films\n",
      "------------------------------------------------------\n",
      "BB8 was in 1 films\n",
      "------------------------------------------------------\n"
     ]
    }
   ],
   "source": [
    "for droid_people in droid_peoples:\n",
    "    print(f\"{droid_people['name']} was in {len(droid_people['films'])} films\")\n",
    "    print('------------------------------------------------------')"
   ]
  },
  {
   "cell_type": "markdown",
   "metadata": {},
   "source": [
    "## 10) Let's be smart and cache the results *[DIFFICULT, maybe!]*\n",
    "\n",
    "So far we've been using a for loop to go through each droid. Every droid, one more request. Every time we want more data, we run the loops again. I don't want that guy to get angry that we're asking for so much data!\n",
    "\n",
    "We want to our list of **droid urls** and turn it into a **list of dictionaries about those droids**. Save it as a variable called `droids`. If you get it correct, the following code should work if you cut and paste it.\n",
    "\n",
    "```python\n",
    "for droid in droids:\n",
    "    print(droid['name'])\n",
    "```\n",
    "\n",
    "* *Tip: Use a list comprehension*\n",
    "* *Tip: So far we've done `response = requests.get..` and `response.json()` on separate lines. You'll need to combine them!*"
   ]
  },
  {
   "cell_type": "code",
   "execution_count": 30,
   "metadata": {},
   "outputs": [
    {
     "name": "stdout",
     "output_type": "stream",
     "text": [
      "C-3PO\n",
      "R2-D2\n",
      "R5-D4\n",
      "IG-88\n",
      "BB8\n"
     ]
    }
   ],
   "source": [
    "droids = [requests.get(droid_url).json() for droid_url in droids_url]\n",
    "    \n",
    "for droid in droids:\n",
    "    print(droid['name'])"
   ]
  },
  {
   "cell_type": "markdown",
   "metadata": {},
   "source": [
    "## 11) Get a list of every single planet in the Star Wars universe\n",
    "\n",
    "* *Tip: You'll want to use the API documentation for this, I think*"
   ]
  },
  {
   "cell_type": "code",
   "execution_count": 31,
   "metadata": {},
   "outputs": [
    {
     "name": "stdout",
     "output_type": "stream",
     "text": [
      "dict_keys(['count', 'next', 'previous', 'results'])\n",
      "61\n",
      "https://swapi.co/api/planets/?page=2\n"
     ]
    }
   ],
   "source": [
    "response = requests.get('https://swapi.co/api/planets/')\n",
    "data = response.json()\n",
    "print(data.keys())\n",
    "print(data['count'])\n",
    "print(data['next'])\n",
    "\n",
    "\n"
   ]
  },
  {
   "cell_type": "code",
   "execution_count": 32,
   "metadata": {},
   "outputs": [
    {
     "name": "stdout",
     "output_type": "stream",
     "text": [
      "https://swapi.co/api/planets/?page=2\n",
      "10\n",
      "20\n",
      "https://swapi.co/api/planets/?page=3\n",
      "10\n",
      "30\n",
      "https://swapi.co/api/planets/?page=4\n",
      "10\n",
      "40\n",
      "https://swapi.co/api/planets/?page=5\n",
      "10\n",
      "50\n",
      "https://swapi.co/api/planets/?page=6\n",
      "10\n",
      "60\n",
      "https://swapi.co/api/planets/?page=7\n",
      "1\n",
      "61\n"
     ]
    }
   ],
   "source": [
    "planets = data['results']\n",
    "\n",
    "while 'next' in data.keys():\n",
    "    url_planets = data['next']\n",
    "    if data['next'] is None:\n",
    "        break\n",
    "    print(data['next'])\n",
    "    response = requests.get(url_planets)\n",
    "    data = response.json()\n",
    "    print(len(data['results']))\n",
    "    planets.extend(data['results'])\n",
    "    print(len(planets))\n",
    "    \n",
    "\n",
    "    \n",
    "# page = 1\n",
    "# response = requests.get('https://swapi.co/api/planets/')\n",
    "# data = response.json()\n",
    "# planets = data['results']\n",
    "# count = 0\n",
    "# while 'next' in data.keys():\n",
    "#     count = count +1\n",
    "#     print('Loading %d' %count)\n",
    "#     page = page + 1\n",
    "#     data = requests.get('https://swapi.co/api/planets/' + \"?page=\" + str(page)).json()\n",
    "#     if 'results' in data.keys():\n",
    "#         planets.extend(data['results'])\n",
    "#         print(len(planets), end='\\r')\n",
    "#     print('')\n",
    "# print('')\n",
    "# print(\"The number of pages is\",page - 1)\n",
    "# print(\"The number of planets is\", len(planets))\n",
    "\n",
    "   \n",
    "\n",
    "\n",
    "\n"
   ]
  },
  {
   "cell_type": "code",
   "execution_count": 33,
   "metadata": {},
   "outputs": [
    {
     "name": "stdout",
     "output_type": "stream",
     "text": [
      "Alderaan\n",
      "Yavin IV\n",
      "Hoth\n",
      "Dagobah\n",
      "Bespin\n",
      "Endor\n",
      "Naboo\n",
      "Coruscant\n",
      "Kamino\n",
      "Geonosis\n",
      "Utapau\n",
      "Mustafar\n",
      "Kashyyyk\n",
      "Polis Massa\n",
      "Mygeeto\n",
      "Felucia\n",
      "Cato Neimoidia\n",
      "Saleucami\n",
      "Stewjon\n",
      "Eriadu\n",
      "Corellia\n",
      "Rodia\n",
      "Nal Hutta\n",
      "Dantooine\n",
      "Bestine IV\n",
      "Ord Mantell\n",
      "unknown\n",
      "Trandosha\n",
      "Socorro\n",
      "Mon Cala\n",
      "Chandrila\n",
      "Sullust\n",
      "Toydaria\n",
      "Malastare\n",
      "Dathomir\n",
      "Ryloth\n",
      "Aleen Minor\n",
      "Vulpter\n",
      "Troiken\n",
      "Tund\n",
      "Haruun Kal\n",
      "Cerea\n",
      "Glee Anselm\n",
      "Iridonia\n",
      "Tholoth\n",
      "Iktotch\n",
      "Quermia\n",
      "Dorin\n",
      "Champala\n",
      "Mirial\n",
      "Serenno\n",
      "Concord Dawn\n",
      "Zolan\n",
      "Ojom\n",
      "Skako\n",
      "Muunilinst\n",
      "Shili\n",
      "Kalee\n",
      "Umbara\n",
      "Tatooine\n",
      "Jakku\n"
     ]
    }
   ],
   "source": [
    "for planet in planets:\n",
    "    print(planet['name'])"
   ]
  },
  {
   "cell_type": "markdown",
   "metadata": {},
   "source": [
    "## 12) How many plants are there? Show me two different ways of displaying the answer.\n",
    "\n",
    "* *Tip: They won't match*"
   ]
  },
  {
   "cell_type": "code",
   "execution_count": 34,
   "metadata": {},
   "outputs": [
    {
     "name": "stdout",
     "output_type": "stream",
     "text": [
      "61\n"
     ]
    }
   ],
   "source": [
    "print(data['count'])"
   ]
  },
  {
   "cell_type": "code",
   "execution_count": 35,
   "metadata": {},
   "outputs": [
    {
     "name": "stdout",
     "output_type": "stream",
     "text": [
      "61\n"
     ]
    }
   ],
   "source": [
    "print(len(planets))"
   ]
  },
  {
   "cell_type": "markdown",
   "metadata": {},
   "source": [
    "# These questions are all list comprehension questions, if you'd like\n",
    "\n",
    "## 13) Get the population of each of the planets\n",
    "\n",
    "* *Tip: Only use the 10 results for now*\n",
    "* *Tip: Use a list comprehension*"
   ]
  },
  {
   "cell_type": "code",
   "execution_count": 36,
   "metadata": {},
   "outputs": [],
   "source": [
    "response = requests.get('https://swapi.co/api/planets/')\n",
    "data = response.json()"
   ]
  },
  {
   "cell_type": "code",
   "execution_count": 37,
   "metadata": {},
   "outputs": [],
   "source": [
    "planets_pop = [planet['population'] for planet in data['results']] "
   ]
  },
  {
   "cell_type": "code",
   "execution_count": 38,
   "metadata": {},
   "outputs": [
    {
     "name": "stdout",
     "output_type": "stream",
     "text": [
      "['2000000000', '1000', 'unknown', 'unknown', '6000000', '30000000', '4500000000', '1000000000000', '1000000000', '100000000000']\n"
     ]
    }
   ],
   "source": [
    "print(planets_pop)"
   ]
  },
  {
   "cell_type": "markdown",
   "metadata": {},
   "source": [
    "## 14) Get the population of each of the planets, EXCEPT the ones that have a population of `'unknown'`\n",
    "\n",
    "* *Tip: Use a list comprehension with a filter (that's the `..if..` part at the end)*"
   ]
  },
  {
   "cell_type": "code",
   "execution_count": 39,
   "metadata": {},
   "outputs": [],
   "source": [
    "planets_pop = [planet['population'] for planet in data['results'] if planet['population'] != 'unknown']\n"
   ]
  },
  {
   "cell_type": "code",
   "execution_count": 40,
   "metadata": {},
   "outputs": [
    {
     "name": "stdout",
     "output_type": "stream",
     "text": [
      "['2000000000', '1000', '6000000', '30000000', '4500000000', '1000000000000', '1000000000', '100000000000']\n"
     ]
    }
   ],
   "source": [
    "print(planets_pop)"
   ]
  },
  {
   "cell_type": "markdown",
   "metadata": {},
   "source": [
    "## 14) Add up the populations\n",
    "\n",
    "* *Tip: They're strings right now, so it isn't going to work unless you change something about them*"
   ]
  },
  {
   "cell_type": "code",
   "execution_count": 41,
   "metadata": {
    "scrolled": true
   },
   "outputs": [
    {
     "name": "stdout",
     "output_type": "stream",
     "text": [
      "1107536001000\n"
     ]
    }
   ],
   "source": [
    "total = 0\n",
    "total = sum([int(planet_pop) for planet_pop in planets_pop])\n",
    "print(total)"
   ]
  },
  {
   "cell_type": "markdown",
   "metadata": {},
   "source": [
    "## 15) Print what percentage of the total population each planet has\n",
    "\n",
    "I would like the sentences to be `\"The planet ____ has a population of _____, which is ___% of the total population\"`. If we don't know the planet's population, say `\"We don't know the population of _____\"`.\n",
    "\n",
    "* *Tip: This finally uses a for loop, but also the result of the last question*"
   ]
  },
  {
   "cell_type": "code",
   "execution_count": 47,
   "metadata": {},
   "outputs": [
    {
     "name": "stdout",
     "output_type": "stream",
     "text": [
      "Alderaan\n",
      "The planet Alderaan has a population of 2000000000 which is 0.0018058103738336176 of the total population.\n",
      "Alderaan\n",
      "The planet Alderaan has a population of 1000 which is 9.029051869168089e-10 of the total population.\n",
      "Alderaan\n",
      "The planet Alderaan has a population of 6000000 which is 5.417431121500853e-06 of the total population.\n",
      "Alderaan\n",
      "The planet Alderaan has a population of 30000000 which is 2.7087155607504265e-05 of the total population.\n",
      "Alderaan\n",
      "The planet Alderaan has a population of 4500000000 which is 0.00406307334112564 of the total population.\n",
      "Alderaan\n",
      "The planet Alderaan has a population of 1000000000000 which is 0.9029051869168089 of the total population.\n",
      "Alderaan\n",
      "The planet Alderaan has a population of 1000000000 which is 0.0009029051869168088 of the total population.\n",
      "Alderaan\n",
      "The planet Alderaan has a population of 100000000000 which is 0.09029051869168088 of the total population.\n",
      "Yavin IV\n",
      "The planet Yavin IV has a population of 2000000000 which is 0.0018058103738336176 of the total population.\n",
      "Yavin IV\n",
      "The planet Yavin IV has a population of 1000 which is 9.029051869168089e-10 of the total population.\n",
      "Yavin IV\n",
      "The planet Yavin IV has a population of 6000000 which is 5.417431121500853e-06 of the total population.\n",
      "Yavin IV\n",
      "The planet Yavin IV has a population of 30000000 which is 2.7087155607504265e-05 of the total population.\n",
      "Yavin IV\n",
      "The planet Yavin IV has a population of 4500000000 which is 0.00406307334112564 of the total population.\n",
      "Yavin IV\n",
      "The planet Yavin IV has a population of 1000000000000 which is 0.9029051869168089 of the total population.\n",
      "Yavin IV\n",
      "The planet Yavin IV has a population of 1000000000 which is 0.0009029051869168088 of the total population.\n",
      "Yavin IV\n",
      "The planet Yavin IV has a population of 100000000000 which is 0.09029051869168088 of the total population.\n",
      "We don't know the population of Hoth\n",
      "We don't know the population of Dagobah\n",
      "Bespin\n",
      "The planet Bespin has a population of 2000000000 which is 0.0018058103738336176 of the total population.\n",
      "Bespin\n",
      "The planet Bespin has a population of 1000 which is 9.029051869168089e-10 of the total population.\n",
      "Bespin\n",
      "The planet Bespin has a population of 6000000 which is 5.417431121500853e-06 of the total population.\n",
      "Bespin\n",
      "The planet Bespin has a population of 30000000 which is 2.7087155607504265e-05 of the total population.\n",
      "Bespin\n",
      "The planet Bespin has a population of 4500000000 which is 0.00406307334112564 of the total population.\n",
      "Bespin\n",
      "The planet Bespin has a population of 1000000000000 which is 0.9029051869168089 of the total population.\n",
      "Bespin\n",
      "The planet Bespin has a population of 1000000000 which is 0.0009029051869168088 of the total population.\n",
      "Bespin\n",
      "The planet Bespin has a population of 100000000000 which is 0.09029051869168088 of the total population.\n",
      "Endor\n",
      "The planet Endor has a population of 2000000000 which is 0.0018058103738336176 of the total population.\n",
      "Endor\n",
      "The planet Endor has a population of 1000 which is 9.029051869168089e-10 of the total population.\n",
      "Endor\n",
      "The planet Endor has a population of 6000000 which is 5.417431121500853e-06 of the total population.\n",
      "Endor\n",
      "The planet Endor has a population of 30000000 which is 2.7087155607504265e-05 of the total population.\n",
      "Endor\n",
      "The planet Endor has a population of 4500000000 which is 0.00406307334112564 of the total population.\n",
      "Endor\n",
      "The planet Endor has a population of 1000000000000 which is 0.9029051869168089 of the total population.\n",
      "Endor\n",
      "The planet Endor has a population of 1000000000 which is 0.0009029051869168088 of the total population.\n",
      "Endor\n",
      "The planet Endor has a population of 100000000000 which is 0.09029051869168088 of the total population.\n",
      "Naboo\n",
      "The planet Naboo has a population of 2000000000 which is 0.0018058103738336176 of the total population.\n",
      "Naboo\n",
      "The planet Naboo has a population of 1000 which is 9.029051869168089e-10 of the total population.\n",
      "Naboo\n",
      "The planet Naboo has a population of 6000000 which is 5.417431121500853e-06 of the total population.\n",
      "Naboo\n",
      "The planet Naboo has a population of 30000000 which is 2.7087155607504265e-05 of the total population.\n",
      "Naboo\n",
      "The planet Naboo has a population of 4500000000 which is 0.00406307334112564 of the total population.\n",
      "Naboo\n",
      "The planet Naboo has a population of 1000000000000 which is 0.9029051869168089 of the total population.\n",
      "Naboo\n",
      "The planet Naboo has a population of 1000000000 which is 0.0009029051869168088 of the total population.\n",
      "Naboo\n",
      "The planet Naboo has a population of 100000000000 which is 0.09029051869168088 of the total population.\n",
      "Coruscant\n",
      "The planet Coruscant has a population of 2000000000 which is 0.0018058103738336176 of the total population.\n",
      "Coruscant\n",
      "The planet Coruscant has a population of 1000 which is 9.029051869168089e-10 of the total population.\n",
      "Coruscant\n",
      "The planet Coruscant has a population of 6000000 which is 5.417431121500853e-06 of the total population.\n",
      "Coruscant\n",
      "The planet Coruscant has a population of 30000000 which is 2.7087155607504265e-05 of the total population.\n",
      "Coruscant\n",
      "The planet Coruscant has a population of 4500000000 which is 0.00406307334112564 of the total population.\n",
      "Coruscant\n",
      "The planet Coruscant has a population of 1000000000000 which is 0.9029051869168089 of the total population.\n",
      "Coruscant\n",
      "The planet Coruscant has a population of 1000000000 which is 0.0009029051869168088 of the total population.\n",
      "Coruscant\n",
      "The planet Coruscant has a population of 100000000000 which is 0.09029051869168088 of the total population.\n",
      "Kamino\n",
      "The planet Kamino has a population of 2000000000 which is 0.0018058103738336176 of the total population.\n",
      "Kamino\n",
      "The planet Kamino has a population of 1000 which is 9.029051869168089e-10 of the total population.\n",
      "Kamino\n",
      "The planet Kamino has a population of 6000000 which is 5.417431121500853e-06 of the total population.\n",
      "Kamino\n",
      "The planet Kamino has a population of 30000000 which is 2.7087155607504265e-05 of the total population.\n",
      "Kamino\n",
      "The planet Kamino has a population of 4500000000 which is 0.00406307334112564 of the total population.\n",
      "Kamino\n",
      "The planet Kamino has a population of 1000000000000 which is 0.9029051869168089 of the total population.\n",
      "Kamino\n",
      "The planet Kamino has a population of 1000000000 which is 0.0009029051869168088 of the total population.\n",
      "Kamino\n",
      "The planet Kamino has a population of 100000000000 which is 0.09029051869168088 of the total population.\n",
      "Geonosis\n",
      "The planet Geonosis has a population of 2000000000 which is 0.0018058103738336176 of the total population.\n",
      "Geonosis\n",
      "The planet Geonosis has a population of 1000 which is 9.029051869168089e-10 of the total population.\n",
      "Geonosis\n",
      "The planet Geonosis has a population of 6000000 which is 5.417431121500853e-06 of the total population.\n",
      "Geonosis\n",
      "The planet Geonosis has a population of 30000000 which is 2.7087155607504265e-05 of the total population.\n",
      "Geonosis\n",
      "The planet Geonosis has a population of 4500000000 which is 0.00406307334112564 of the total population.\n",
      "Geonosis\n",
      "The planet Geonosis has a population of 1000000000000 which is 0.9029051869168089 of the total population.\n",
      "Geonosis\n",
      "The planet Geonosis has a population of 1000000000 which is 0.0009029051869168088 of the total population.\n",
      "Geonosis\n",
      "The planet Geonosis has a population of 100000000000 which is 0.09029051869168088 of the total population.\n"
     ]
    }
   ],
   "source": [
    "for planet in data['results']:\n",
    "    if planet['population'] == 'unknown':\n",
    "        print(\"We don't know the population of\", planet['name'])\n",
    "    else:\n",
    "        for planet_pop in planets_pop:\n",
    "            pop_ratio = int(planet_pop) / total\n",
    "            print(planet['name'])\n",
    "            print(\"The planet\", planet['name'], \"has a population of\", planet_pop, \"which is\", pop_ratio, \"of the total population.\" )\n",
    "        \n",
    "\n"
   ]
  }
 ],
 "metadata": {
  "kernelspec": {
   "display_name": "Python 3",
   "language": "python",
   "name": "python3"
  },
  "language_info": {
   "codemirror_mode": {
    "name": "ipython",
    "version": 3
   },
   "file_extension": ".py",
   "mimetype": "text/x-python",
   "name": "python",
   "nbconvert_exporter": "python",
   "pygments_lexer": "ipython3",
   "version": "3.7.1"
  }
 },
 "nbformat": 4,
 "nbformat_minor": 2
}

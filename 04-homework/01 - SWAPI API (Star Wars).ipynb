{
 "cells": [
  {
   "cell_type": "markdown",
   "metadata": {},
   "source": [
    "# SWAPI (Star Wars)\n",
    "\n",
    "Answer the following questions using the [Star Wars](https://swapi.co/). I've added three cells for each question but you're free to use more or less! Hold `Shift` and hit `Enter` to run a cell, and use the `+` on the top left to add a new cell to a notebook.\n",
    "\n",
    "If you spend some time reading the documentation your life will probably be a little bit easier!\n",
    "\n",
    "## 0) Import any libraries you might need\n",
    "\n",
    "- *Tip: We're going to be downloading things from the internet, so we probably need `requests`.*"
   ]
  },
  {
   "cell_type": "code",
   "execution_count": 44,
   "metadata": {},
   "outputs": [],
   "source": [
    "import requests"
   ]
  },
  {
   "cell_type": "markdown",
   "metadata": {},
   "source": [
    "## 1) Make a request to the Star Wars API\n",
    "\n",
    "I've heard there's a new Star Wars film called **Solo**, but it isn't in SWAPI!\n",
    "\n",
    "The most recent film it contains has an ID of 7. Make a request for that film and look at the data."
   ]
  },
  {
   "cell_type": "code",
   "execution_count": 175,
   "metadata": {},
   "outputs": [],
   "source": [
    "response = requests.get('https://swapi.co/api/films/7/')\n",
    "data = response.json()"
   ]
  },
  {
   "cell_type": "code",
   "execution_count": 176,
   "metadata": {},
   "outputs": [
    {
     "data": {
      "text/plain": [
       "dict"
      ]
     },
     "execution_count": 176,
     "metadata": {},
     "output_type": "execute_result"
    }
   ],
   "source": [
    "type(data)"
   ]
  },
  {
   "cell_type": "code",
   "execution_count": 177,
   "metadata": {},
   "outputs": [
    {
     "data": {
      "text/plain": [
       "dict_keys(['title', 'episode_id', 'opening_crawl', 'director', 'producer', 'release_date', 'characters', 'planets', 'starships', 'vehicles', 'species', 'created', 'edited', 'url'])"
      ]
     },
     "execution_count": 177,
     "metadata": {},
     "output_type": "execute_result"
    }
   ],
   "source": [
    "data.keys()"
   ]
  },
  {
   "cell_type": "markdown",
   "metadata": {},
   "source": [
    "## 2) What is that film's name, and when was it released?\n",
    "\n",
    "Please print **only** the title and the release date. You can guess at the keys, but I recommend checking the documentation."
   ]
  },
  {
   "cell_type": "code",
   "execution_count": 178,
   "metadata": {},
   "outputs": [
    {
     "data": {
      "text/plain": [
       "'The Force Awakens'"
      ]
     },
     "execution_count": 178,
     "metadata": {},
     "output_type": "execute_result"
    }
   ],
   "source": [
    "data['title']"
   ]
  },
  {
   "cell_type": "code",
   "execution_count": 179,
   "metadata": {},
   "outputs": [
    {
     "data": {
      "text/plain": [
       "'2015-12-11'"
      ]
     },
     "execution_count": 179,
     "metadata": {},
     "output_type": "execute_result"
    }
   ],
   "source": [
    "data['release_date']"
   ]
  },
  {
   "cell_type": "markdown",
   "metadata": {},
   "source": [
    "## 3) But I want Han Solo! Use the API to search for people named \"Solo\"."
   ]
  },
  {
   "cell_type": "code",
   "execution_count": 180,
   "metadata": {},
   "outputs": [
    {
     "name": "stdout",
     "output_type": "stream",
     "text": [
      "dict_keys(['count', 'next', 'previous', 'results'])\n"
     ]
    }
   ],
   "source": [
    "response = requests.get('https://swapi.co/api/people')\n",
    "data = response.json()\n",
    "print(data.keys())"
   ]
  },
  {
   "cell_type": "code",
   "execution_count": 181,
   "metadata": {},
   "outputs": [],
   "source": [
    "peoples = []\n",
    "\n",
    "for i in range(1, data['count'] + 1):\n",
    "    people_url = 'https://swapi.co/api/people/' + str(i)+'/'\n",
    "    response = requests.get(people_url)\n",
    "    peoples.append(response.json())\n"
   ]
  },
  {
   "cell_type": "code",
   "execution_count": 182,
   "metadata": {},
   "outputs": [
    {
     "name": "stdout",
     "output_type": "stream",
     "text": [
      "{'name': 'Luke Skywalker', 'height': '172', 'mass': '77', 'hair_color': 'blond', 'skin_color': 'fair', 'eye_color': 'blue', 'birth_year': '19BBY', 'gender': 'male', 'homeworld': 'https://swapi.co/api/planets/1/', 'films': ['https://swapi.co/api/films/2/', 'https://swapi.co/api/films/6/', 'https://swapi.co/api/films/3/', 'https://swapi.co/api/films/1/', 'https://swapi.co/api/films/7/'], 'species': ['https://swapi.co/api/species/1/'], 'vehicles': ['https://swapi.co/api/vehicles/14/', 'https://swapi.co/api/vehicles/30/'], 'starships': ['https://swapi.co/api/starships/12/', 'https://swapi.co/api/starships/22/'], 'created': '2014-12-09T13:50:51.644000Z', 'edited': '2014-12-20T21:17:56.891000Z', 'url': 'https://swapi.co/api/people/1/'}\n"
     ]
    }
   ],
   "source": [
    "len(peoples)\n",
    "print(peoples[0])"
   ]
  },
  {
   "cell_type": "code",
   "execution_count": 183,
   "metadata": {},
   "outputs": [],
   "source": [
    "peoples_info = []\n",
    "for j in range(0, len(peoples)):\n",
    "    if \"name\" in peoples[j].keys():\n",
    "        peoples_info.append(peoples[j])   "
   ]
  },
  {
   "cell_type": "code",
   "execution_count": 184,
   "metadata": {
    "scrolled": true
   },
   "outputs": [
    {
     "name": "stdout",
     "output_type": "stream",
     "text": [
      "{'name': 'Han Solo', 'height': '180', 'mass': '80', 'hair_color': 'brown', 'skin_color': 'fair', 'eye_color': 'brown', 'birth_year': '29BBY', 'gender': 'male', 'homeworld': 'https://swapi.co/api/planets/22/', 'films': ['https://swapi.co/api/films/2/', 'https://swapi.co/api/films/3/', 'https://swapi.co/api/films/1/', 'https://swapi.co/api/films/7/'], 'species': ['https://swapi.co/api/species/1/'], 'vehicles': [], 'starships': ['https://swapi.co/api/starships/10/', 'https://swapi.co/api/starships/22/'], 'created': '2014-12-10T16:49:14.582000Z', 'edited': '2014-12-20T21:17:50.334000Z', 'url': 'https://swapi.co/api/people/14/'}\n"
     ]
    }
   ],
   "source": [
    "for k in range(0, len(peoples_info)):\n",
    "    if peoples_info[k]['name'] == 'Han Solo':\n",
    "        print(peoples_info[k])"
   ]
  },
  {
   "cell_type": "markdown",
   "metadata": {},
   "source": [
    "## 4) How many results did you get?\n",
    "\n",
    "Show **two different ways** of displaying this number.\n",
    "\n",
    "- *Tip: One uses the API, and one uses a Python function*"
   ]
  },
  {
   "cell_type": "code",
   "execution_count": 115,
   "metadata": {},
   "outputs": [
    {
     "ename": "NameError",
     "evalue": "name 'peoples_info' is not defined",
     "output_type": "error",
     "traceback": [
      "\u001b[0;31m---------------------------------------------------------------------------\u001b[0m",
      "\u001b[0;31mNameError\u001b[0m                                 Traceback (most recent call last)",
      "\u001b[0;32m<ipython-input-115-9cb42de7c7d1>\u001b[0m in \u001b[0;36m<module>\u001b[0;34m\u001b[0m\n\u001b[1;32m      1\u001b[0m \u001b[0mcount\u001b[0m \u001b[0;34m=\u001b[0m \u001b[0;36m0\u001b[0m\u001b[0;34m\u001b[0m\u001b[0;34m\u001b[0m\u001b[0m\n\u001b[0;32m----> 2\u001b[0;31m \u001b[0;32mfor\u001b[0m \u001b[0mk\u001b[0m \u001b[0;32min\u001b[0m \u001b[0mrange\u001b[0m\u001b[0;34m(\u001b[0m\u001b[0;36m0\u001b[0m\u001b[0;34m,\u001b[0m \u001b[0mlen\u001b[0m\u001b[0;34m(\u001b[0m\u001b[0mpeoples_info\u001b[0m\u001b[0;34m)\u001b[0m\u001b[0;34m)\u001b[0m\u001b[0;34m:\u001b[0m\u001b[0;34m\u001b[0m\u001b[0;34m\u001b[0m\u001b[0m\n\u001b[0m\u001b[1;32m      3\u001b[0m     \u001b[0;32mif\u001b[0m \u001b[0mpeoples_info\u001b[0m\u001b[0;34m[\u001b[0m\u001b[0mk\u001b[0m\u001b[0;34m]\u001b[0m\u001b[0;34m[\u001b[0m\u001b[0;34m'name'\u001b[0m\u001b[0;34m]\u001b[0m \u001b[0;34m==\u001b[0m \u001b[0;34m'Han Solo'\u001b[0m\u001b[0;34m:\u001b[0m\u001b[0;34m\u001b[0m\u001b[0;34m\u001b[0m\u001b[0m\n\u001b[1;32m      4\u001b[0m         \u001b[0mcount\u001b[0m \u001b[0;34m=\u001b[0m \u001b[0mcount\u001b[0m \u001b[0;34m+\u001b[0m \u001b[0;36m1\u001b[0m\u001b[0;34m\u001b[0m\u001b[0;34m\u001b[0m\u001b[0m\n\u001b[1;32m      5\u001b[0m \u001b[0mprint\u001b[0m\u001b[0;34m(\u001b[0m\u001b[0;34m\"The number of people who are named Solo is\"\u001b[0m\u001b[0;34m,\u001b[0m \u001b[0mcount\u001b[0m\u001b[0;34m)\u001b[0m\u001b[0;34m\u001b[0m\u001b[0;34m\u001b[0m\u001b[0m\n",
      "\u001b[0;31mNameError\u001b[0m: name 'peoples_info' is not defined"
     ]
    }
   ],
   "source": [
    "count = 0\n",
    "for k in range(0, len(peoples_info)):\n",
    "    if peoples_info[k]['name'] == 'Han Solo':\n",
    "        count = count + 1\n",
    "print(\"The number of people who are named Solo is\", count)\n"
   ]
  },
  {
   "cell_type": "code",
   "execution_count": 113,
   "metadata": {},
   "outputs": [
    {
     "name": "stdout",
     "output_type": "stream",
     "text": [
      "dict_keys(['count', 'next', 'previous', 'results'])\n",
      "None\n"
     ]
    }
   ],
   "source": [
    "response = requests.get('https://swapi.co/api/people/?search=Han Solo')\n",
    "data = response.json()\n",
    "print(data.keys())\n",
    "print(data['next'])\n"
   ]
  },
  {
   "cell_type": "code",
   "execution_count": 114,
   "metadata": {},
   "outputs": [
    {
     "name": "stdout",
     "output_type": "stream",
     "text": [
      "The number of people who are named Solo is 1\n"
     ]
    }
   ],
   "source": [
    "count_solo = data['count']\n",
    "print(\"The number of people who are named Solo is\", count_solo)\n",
    "        "
   ]
  },
  {
   "cell_type": "markdown",
   "metadata": {},
   "source": [
    "## 5) Write me a sentence about Han Solo\n",
    "\n",
    "Your sentence should be say `\"____ has _____ hair, is _____cm tall and weighs ____kg.\"` - make sure you have **no spcaes** between the numbers and `cm`/`kg`."
   ]
  },
  {
   "cell_type": "code",
   "execution_count": 186,
   "metadata": {},
   "outputs": [
    {
     "name": "stdout",
     "output_type": "stream",
     "text": [
      "Han Solo has brown hair, is 180 cm tall and weighs 80 kg.\n"
     ]
    }
   ],
   "source": [
    "for k in range(0, len(peoples_info)):\n",
    "    if peoples_info[k]['name'] == 'Han Solo':\n",
    "        Solo = people_info[k]\n",
    "        print(Solo['name'], \"has\", Solo['hair_color'], \"hair, is\", Solo['height'], \"cm tall and weighs\", Solo['mass'], \"kg.\")"
   ]
  },
  {
   "cell_type": "markdown",
   "metadata": {},
   "source": [
    "## 5) Search for C-3PO"
   ]
  },
  {
   "cell_type": "code",
   "execution_count": 187,
   "metadata": {},
   "outputs": [
    {
     "name": "stdout",
     "output_type": "stream",
     "text": [
      "{'name': 'C-3PO', 'height': '167', 'mass': '75', 'hair_color': 'n/a', 'skin_color': 'gold', 'eye_color': 'yellow', 'birth_year': '112BBY', 'gender': 'n/a', 'homeworld': 'https://swapi.co/api/planets/1/', 'films': ['https://swapi.co/api/films/2/', 'https://swapi.co/api/films/5/', 'https://swapi.co/api/films/4/', 'https://swapi.co/api/films/6/', 'https://swapi.co/api/films/3/', 'https://swapi.co/api/films/1/'], 'species': ['https://swapi.co/api/species/2/'], 'vehicles': [], 'starships': [], 'created': '2014-12-10T15:10:51.357000Z', 'edited': '2014-12-20T21:17:50.309000Z', 'url': 'https://swapi.co/api/people/2/'}\n"
     ]
    }
   ],
   "source": [
    "for k in range(0, len(peoples_info)):\n",
    "    if peoples_info[k]['name'] == 'C-3PO':\n",
    "        PO = peoples_info[k]\n",
    "        print(PO)"
   ]
  },
  {
   "cell_type": "markdown",
   "metadata": {},
   "source": [
    "## 6) What URL can tell me more about his species? Make a request to the corrent endpoint.\n",
    "\n",
    "Spoiler: he's a **droid**. Are robots a species? I guess so, maybe."
   ]
  },
  {
   "cell_type": "code",
   "execution_count": 188,
   "metadata": {},
   "outputs": [],
   "source": [
    "url_PO_species = PO['species'][0]"
   ]
  },
  {
   "cell_type": "code",
   "execution_count": 189,
   "metadata": {},
   "outputs": [
    {
     "data": {
      "text/plain": [
       "{'name': 'Droid',\n",
       " 'classification': 'artificial',\n",
       " 'designation': 'sentient',\n",
       " 'average_height': 'n/a',\n",
       " 'skin_colors': 'n/a',\n",
       " 'hair_colors': 'n/a',\n",
       " 'eye_colors': 'n/a',\n",
       " 'average_lifespan': 'indefinite',\n",
       " 'homeworld': None,\n",
       " 'language': 'n/a',\n",
       " 'people': ['https://swapi.co/api/people/2/',\n",
       "  'https://swapi.co/api/people/3/',\n",
       "  'https://swapi.co/api/people/8/',\n",
       "  'https://swapi.co/api/people/23/',\n",
       "  'https://swapi.co/api/people/87/'],\n",
       " 'films': ['https://swapi.co/api/films/2/',\n",
       "  'https://swapi.co/api/films/7/',\n",
       "  'https://swapi.co/api/films/5/',\n",
       "  'https://swapi.co/api/films/4/',\n",
       "  'https://swapi.co/api/films/6/',\n",
       "  'https://swapi.co/api/films/3/',\n",
       "  'https://swapi.co/api/films/1/'],\n",
       " 'created': '2014-12-10T15:16:16.259000Z',\n",
       " 'edited': '2015-04-17T06:59:43.869528Z',\n",
       " 'url': 'https://swapi.co/api/species/2/'}"
      ]
     },
     "execution_count": 189,
     "metadata": {},
     "output_type": "execute_result"
    }
   ],
   "source": [
    "response = requests.get(url_PO_species)\n",
    "PO_species = response.json()\n",
    "PO_species"
   ]
  },
  {
   "cell_type": "markdown",
   "metadata": {},
   "source": [
    "## 7) Print out the URL of every droid\n",
    "\n",
    "* *Tip: life will be easier if you don't say `for droid in...` or `for person in` because you aren't looping through droids or people. What are you looping through?*"
   ]
  },
  {
   "cell_type": "code",
   "execution_count": 190,
   "metadata": {},
   "outputs": [
    {
     "name": "stdout",
     "output_type": "stream",
     "text": [
      "https://swapi.co/api/people/2/\n",
      "https://swapi.co/api/people/3/\n",
      "https://swapi.co/api/people/8/\n",
      "https://swapi.co/api/people/23/\n",
      "https://swapi.co/api/people/87/\n"
     ]
    }
   ],
   "source": [
    "for url_people_driod in PO_species['people']:\n",
    "    print(url_people_driod)"
   ]
  },
  {
   "cell_type": "markdown",
   "metadata": {},
   "source": [
    "## 8) Print out the name of every droid\n",
    "\n",
    "* *Tip: You should start from the last answer, but add more stuff in!*\n",
    "* *Tip: You'll need to make a request every time you're in the loop*\n",
    "* *Tip: Be careful - f you re-use the variable name `data` you'll erase your old `data` variable*"
   ]
  },
  {
   "cell_type": "code",
   "execution_count": 191,
   "metadata": {},
   "outputs": [
    {
     "name": "stdout",
     "output_type": "stream",
     "text": [
      "C-3PO\n",
      "R2-D2\n",
      "R5-D4\n",
      "IG-88\n",
      "BB8\n"
     ]
    }
   ],
   "source": [
    "droids_url = PO_species['people']\n",
    "droid_peoples = []\n",
    "for droid_url in droids_url:\n",
    "    response = requests.get(droid_url)\n",
    "    droid_peoples.append(response.json())\n",
    "    \n",
    "for droid_people in droid_peoples:\n",
    "    print(droid_people['name'])\n"
   ]
  },
  {
   "cell_type": "markdown",
   "metadata": {},
   "source": [
    "## 9) Print out more about the droid\n",
    "\n",
    "Count the number of films for each droid, printing `\"___ was in ___ films\"` for each of them\n",
    "\n",
    "* *Tip: You might want to look at a single droid result, or print the data in the for loop, so you know how to get the films. Or read the documentation!*"
   ]
  },
  {
   "cell_type": "code",
   "execution_count": 192,
   "metadata": {},
   "outputs": [
    {
     "name": "stdout",
     "output_type": "stream",
     "text": [
      "C-3PO was in 6 films\n",
      "------------------------------------------------------\n",
      "R2-D2 was in 7 films\n",
      "------------------------------------------------------\n",
      "R5-D4 was in 1 films\n",
      "------------------------------------------------------\n",
      "IG-88 was in 1 films\n",
      "------------------------------------------------------\n",
      "BB8 was in 1 films\n",
      "------------------------------------------------------\n"
     ]
    }
   ],
   "source": [
    "for droid_people in droid_peoples:\n",
    "    print(f\"{droid_people['name']} was in {len(droid_people['films'])} films\")\n",
    "    print('------------------------------------------------------')"
   ]
  },
  {
   "cell_type": "markdown",
   "metadata": {},
   "source": [
    "## 10) Let's be smart and cache the results *[DIFFICULT, maybe!]*\n",
    "\n",
    "So far we've been using a for loop to go through each droid. Every droid, one more request. Every time we want more data, we run the loops again. I don't want that guy to get angry that we're asking for so much data!\n",
    "\n",
    "We want to our list of **droid urls** and turn it into a **list of dictionaries about those droids**. Save it as a variable called `droids`. If you get it correct, the following code should work if you cut and paste it.\n",
    "\n",
    "```python\n",
    "for droid in droids:\n",
    "    print(droid['name'])\n",
    "```\n",
    "\n",
    "* *Tip: Use a list comprehension*\n",
    "* *Tip: So far we've done `response = requests.get..` and `response.json()` on separate lines. You'll need to combine them!*"
   ]
  },
  {
   "cell_type": "code",
   "execution_count": 193,
   "metadata": {},
   "outputs": [
    {
     "name": "stdout",
     "output_type": "stream",
     "text": [
      "C-3PO\n",
      "R2-D2\n",
      "R5-D4\n",
      "IG-88\n",
      "BB8\n"
     ]
    }
   ],
   "source": [
    "droids = [requests.get(droid_url).json() for droid_url in droids_url]\n",
    "    \n",
    "for droid in droids:\n",
    "    print(droid['name'])"
   ]
  },
  {
   "cell_type": "markdown",
   "metadata": {},
   "source": [
    "## 11) Get a list of every single planet in the Star Wars universe\n",
    "\n",
    "* *Tip: You'll want to use the API documentation for this, I think*"
   ]
  },
  {
   "cell_type": "code",
   "execution_count": 77,
   "metadata": {},
   "outputs": [
    {
     "name": "stdout",
     "output_type": "stream",
     "text": [
      "dict_keys(['count', 'next', 'previous', 'results'])\n",
      "61\n",
      "https://swapi.co/api/planets/?page=2\n"
     ]
    }
   ],
   "source": [
    "response = requests.get('https://swapi.co/api/planets/')\n",
    "data = response.json()\n",
    "print(data.keys())\n",
    "print(data['count'])\n",
    "print(data['next'])\n",
    "\n",
    "\n"
   ]
  },
  {
   "cell_type": "code",
   "execution_count": 76,
   "metadata": {},
   "outputs": [
    {
     "name": "stdout",
     "output_type": "stream",
     "text": [
      "Loading 1\n",
      "20\n",
      "Loading 2\n",
      "30\n",
      "Loading 3\n",
      "40\n",
      "Loading 4\n",
      "50\n",
      "Loading 5\n",
      "60\n",
      "Loading 6\n",
      "61\n",
      "Loading 7\n",
      "\n",
      "\n",
      "The number of pages is 7\n",
      "The number of planets is 61\n"
     ]
    }
   ],
   "source": [
    "planets = data['results']\n",
    "\n",
    "while 'next' in data.keys():\n",
    "    url_planets = data['next']\n",
    "    if data['next'] is None:\n",
    "        break\n",
    "    print(data['next'])\n",
    "    response = requests.get(url_planets)\n",
    "    data = response.json()\n",
    "    print(len(data['results']))\n",
    "    planets.extend(data['results'])\n",
    "    print(len(planets))\n",
    "    \n",
    "\n",
    "    \n",
    "# page = 1\n",
    "# response = requests.get('https://swapi.co/api/planets/')\n",
    "# data = response.json()\n",
    "# planets = data['results']\n",
    "# count = 0\n",
    "# while 'next' in data.keys():\n",
    "#     count = count +1\n",
    "#     print('Loading %d' %count)\n",
    "#     page = page + 1\n",
    "#     data = requests.get('https://swapi.co/api/planets/' + \"?page=\" + str(page)).json()\n",
    "#     if 'results' in data.keys():\n",
    "#         planets.extend(data['results'])\n",
    "#         print(len(planets), end='\\r')\n",
    "#     print('')\n",
    "# print('')\n",
    "# print(\"The number of pages is\",page - 1)\n",
    "# print(\"The number of planets is\", len(planets))\n",
    "\n",
    "   \n",
    "\n",
    "\n",
    "\n"
   ]
  },
  {
   "cell_type": "code",
   "execution_count": 93,
   "metadata": {},
   "outputs": [
    {
     "name": "stdout",
     "output_type": "stream",
     "text": [
      "Alderaan\n",
      "2000000000\n",
      "Yavin IV\n",
      "1000\n",
      "Hoth\n",
      "unknown\n",
      "Dagobah\n",
      "unknown\n",
      "Bespin\n",
      "6000000\n",
      "Endor\n",
      "30000000\n",
      "Naboo\n",
      "4500000000\n",
      "Coruscant\n",
      "1000000000000\n",
      "Kamino\n",
      "1000000000\n",
      "Geonosis\n",
      "100000000000\n",
      "Utapau\n",
      "95000000\n",
      "Mustafar\n",
      "20000\n",
      "Kashyyyk\n",
      "45000000\n",
      "Polis Massa\n",
      "1000000\n",
      "Mygeeto\n",
      "19000000\n",
      "Felucia\n",
      "8500000\n",
      "Cato Neimoidia\n",
      "10000000\n",
      "Saleucami\n",
      "1400000000\n",
      "Stewjon\n",
      "unknown\n",
      "Eriadu\n",
      "22000000000\n",
      "Corellia\n",
      "3000000000\n",
      "Rodia\n",
      "1300000000\n",
      "Nal Hutta\n",
      "7000000000\n",
      "Dantooine\n",
      "1000\n",
      "Bestine IV\n",
      "62000000\n",
      "Ord Mantell\n",
      "4000000000\n",
      "unknown\n",
      "unknown\n",
      "Trandosha\n",
      "42000000\n",
      "Socorro\n",
      "300000000\n",
      "Mon Cala\n",
      "27000000000\n",
      "Chandrila\n",
      "1200000000\n",
      "Sullust\n",
      "18500000000\n",
      "Toydaria\n",
      "11000000\n",
      "Malastare\n",
      "2000000000\n",
      "Dathomir\n",
      "5200\n",
      "Ryloth\n",
      "1500000000\n",
      "Aleen Minor\n",
      "unknown\n",
      "Vulpter\n",
      "421000000\n",
      "Troiken\n",
      "unknown\n",
      "Tund\n",
      "0\n",
      "Haruun Kal\n",
      "705300\n",
      "Cerea\n",
      "450000000\n",
      "Glee Anselm\n",
      "500000000\n",
      "Iridonia\n",
      "unknown\n",
      "Tholoth\n",
      "unknown\n",
      "Iktotch\n",
      "unknown\n",
      "Quermia\n",
      "unknown\n",
      "Dorin\n",
      "unknown\n",
      "Champala\n",
      "3500000000\n",
      "Mirial\n",
      "unknown\n",
      "Serenno\n",
      "unknown\n",
      "Concord Dawn\n",
      "unknown\n",
      "Zolan\n",
      "unknown\n",
      "Ojom\n",
      "500000000\n",
      "Skako\n",
      "500000000000\n",
      "Muunilinst\n",
      "5000000000\n",
      "Shili\n",
      "unknown\n",
      "Kalee\n",
      "4000000000\n",
      "Umbara\n",
      "unknown\n",
      "Tatooine\n",
      "200000\n",
      "Jakku\n",
      "unknown\n",
      "Anakin Skywalker\n"
     ]
    },
    {
     "ename": "KeyError",
     "evalue": "'population'",
     "output_type": "error",
     "traceback": [
      "\u001b[0;31m---------------------------------------------------------------------------\u001b[0m",
      "\u001b[0;31mKeyError\u001b[0m                                  Traceback (most recent call last)",
      "\u001b[0;32m<ipython-input-93-61263f30b630>\u001b[0m in \u001b[0;36m<module>\u001b[0;34m\u001b[0m\n\u001b[1;32m      1\u001b[0m \u001b[0;32mfor\u001b[0m \u001b[0mplanet\u001b[0m \u001b[0;32min\u001b[0m \u001b[0mplanets\u001b[0m\u001b[0;34m:\u001b[0m\u001b[0;34m\u001b[0m\u001b[0;34m\u001b[0m\u001b[0m\n\u001b[1;32m      2\u001b[0m     \u001b[0mprint\u001b[0m\u001b[0;34m(\u001b[0m\u001b[0mplanet\u001b[0m\u001b[0;34m[\u001b[0m\u001b[0;34m'name'\u001b[0m\u001b[0;34m]\u001b[0m\u001b[0;34m)\u001b[0m\u001b[0;34m\u001b[0m\u001b[0;34m\u001b[0m\u001b[0m\n\u001b[0;32m----> 3\u001b[0;31m     \u001b[0mprint\u001b[0m\u001b[0;34m(\u001b[0m\u001b[0mplanet\u001b[0m\u001b[0;34m[\u001b[0m\u001b[0;34m'population'\u001b[0m\u001b[0;34m]\u001b[0m\u001b[0;34m)\u001b[0m\u001b[0;34m\u001b[0m\u001b[0;34m\u001b[0m\u001b[0m\n\u001b[0m",
      "\u001b[0;31mKeyError\u001b[0m: 'population'"
     ]
    }
   ],
   "source": [
    "for planet in planets:\n",
    "    print(planet['name'])"
   ]
  },
  {
   "cell_type": "markdown",
   "metadata": {},
   "source": [
    "## 12) How many plants are there? Show me two different ways of displaying the answer.\n",
    "\n",
    "* *Tip: They won't match*"
   ]
  },
  {
   "cell_type": "code",
   "execution_count": 158,
   "metadata": {},
   "outputs": [
    {
     "name": "stdout",
     "output_type": "stream",
     "text": [
      "61\n"
     ]
    }
   ],
   "source": [
    "print(data['count'])"
   ]
  },
  {
   "cell_type": "code",
   "execution_count": 81,
   "metadata": {},
   "outputs": [
    {
     "name": "stdout",
     "output_type": "stream",
     "text": [
      "61\n"
     ]
    }
   ],
   "source": [
    "print(len(planets))"
   ]
  },
  {
   "cell_type": "markdown",
   "metadata": {},
   "source": [
    "# These questions are all list comprehension questions, if you'd like\n",
    "\n",
    "## 13) Get the population of each of the planets\n",
    "\n",
    "* *Tip: Only use the 10 results for now*\n",
    "* *Tip: Use a list comprehension*"
   ]
  },
  {
   "cell_type": "code",
   "execution_count": 54,
   "metadata": {},
   "outputs": [],
   "source": [
    "response = requests.get('https://swapi.co/api/planets/')\n",
    "data = response.json()"
   ]
  },
  {
   "cell_type": "code",
   "execution_count": 55,
   "metadata": {},
   "outputs": [],
   "source": [
    "planets_pop = [planet['population'] for planet in data['results']] "
   ]
  },
  {
   "cell_type": "code",
   "execution_count": 56,
   "metadata": {},
   "outputs": [
    {
     "name": "stdout",
     "output_type": "stream",
     "text": [
      "['2000000000', '1000', 'unknown', 'unknown', '6000000', '30000000', '4500000000', '1000000000000', '1000000000', '100000000000']\n"
     ]
    }
   ],
   "source": [
    "print(planets_pop)"
   ]
  },
  {
   "cell_type": "markdown",
   "metadata": {},
   "source": [
    "## 14) Get the population of each of the planets, EXCEPT the ones that have a population of `'unknown'`\n",
    "\n",
    "* *Tip: Use a list comprehension with a filter (that's the `..if..` part at the end)*"
   ]
  },
  {
   "cell_type": "code",
   "execution_count": 57,
   "metadata": {},
   "outputs": [],
   "source": [
    "planets_pop = [planet['population'] for planet in data['results'] if planet['population'] != 'unknown']\n"
   ]
  },
  {
   "cell_type": "code",
   "execution_count": 58,
   "metadata": {},
   "outputs": [
    {
     "name": "stdout",
     "output_type": "stream",
     "text": [
      "['2000000000', '1000', '6000000', '30000000', '4500000000', '1000000000000', '1000000000', '100000000000']\n"
     ]
    }
   ],
   "source": [
    "print(planets_pop)"
   ]
  },
  {
   "cell_type": "markdown",
   "metadata": {},
   "source": [
    "## 14) Add up the populations\n",
    "\n",
    "* *Tip: They're strings right now, so it isn't going to work unless you change something about them*"
   ]
  },
  {
   "cell_type": "code",
   "execution_count": 59,
   "metadata": {
    "scrolled": true
   },
   "outputs": [
    {
     "name": "stdout",
     "output_type": "stream",
     "text": [
      "1107536001000\n"
     ]
    }
   ],
   "source": [
    "total = 0\n",
    "total = sum([int(planet_pop) for planet_pop in planets_pop])\n",
    "print(total)"
   ]
  },
  {
   "cell_type": "markdown",
   "metadata": {},
   "source": [
    "## 15) Print what percentage of the total population each planet has\n",
    "\n",
    "I would like the sentences to be `\"The planet ____ has a population of _____, which is ___% of the total population\"`. If we don't know the planet's population, say `\"We don't know the population of _____\"`.\n",
    "\n",
    "* *Tip: This finally uses a for loop, but also the result of the last question*"
   ]
  },
  {
   "cell_type": "code",
   "execution_count": 73,
   "metadata": {},
   "outputs": [
    {
     "name": "stdout",
     "output_type": "stream",
     "text": [
      "Alderaan\n",
      "The planet Alderaan has a population of 100000000000 which is 0.09029051869168088 of the total population.\n",
      "Yavin IV\n",
      "The planet Yavin IV has a population of 100000000000 which is 0.09029051869168088 of the total population.\n",
      "We don't know the population of Hoth\n",
      "We don't know the population of Dagobah\n",
      "Bespin\n",
      "The planet Bespin has a population of 100000000000 which is 0.09029051869168088 of the total population.\n",
      "Endor\n",
      "The planet Endor has a population of 100000000000 which is 0.09029051869168088 of the total population.\n",
      "Naboo\n",
      "The planet Naboo has a population of 100000000000 which is 0.09029051869168088 of the total population.\n",
      "Coruscant\n",
      "The planet Coruscant has a population of 100000000000 which is 0.09029051869168088 of the total population.\n",
      "Kamino\n",
      "The planet Kamino has a population of 100000000000 which is 0.09029051869168088 of the total population.\n",
      "Geonosis\n",
      "The planet Geonosis has a population of 100000000000 which is 0.09029051869168088 of the total population.\n"
     ]
    }
   ],
   "source": [
    "pop_ratios = [int(planet_pop) / total for planet_pop in planets_pop]\n",
    "for planet in data['results']:\n",
    "    if planet['population'] != 'unknown':\n",
    "        print(planet['name'])\n",
    "        print(\"The planet\", planet['name'], \"has a population of\", planet_pop, \"which is\", pop_ratio, \"of the total population.\" )\n",
    "    else:\n",
    "        print(\"We don't know the population of\", planet['name'])\n",
    "\n"
   ]
  },
  {
   "cell_type": "code",
   "execution_count": 64,
   "metadata": {},
   "outputs": [
    {
     "name": "stdout",
     "output_type": "stream",
     "text": [
      "The planet Geonosis has a population of  100000000000 , which is [0.0018058103738336176, 9.029051869168089e-10, 5.417431121500853e-06, 2.7087155607504265e-05, 0.00406307334112564, 0.9029051869168089, 0.0009029051869168088, 0.09029051869168088] of the total population.\n"
     ]
    }
   ],
   "source": [
    "print(\"The planet\", planet['name'], \"has a population of \", planet_pop, \", which is\", pop_ratio, \"of the total population.\")"
   ]
  },
  {
   "cell_type": "code",
   "execution_count": null,
   "metadata": {},
   "outputs": [],
   "source": []
  }
 ],
 "metadata": {
  "kernelspec": {
   "display_name": "Python 3",
   "language": "python",
   "name": "python3"
  },
  "language_info": {
   "codemirror_mode": {
    "name": "ipython",
    "version": 3
   },
   "file_extension": ".py",
   "mimetype": "text/x-python",
   "name": "python",
   "nbconvert_exporter": "python",
   "pygments_lexer": "ipython3",
   "version": "3.7.1"
  }
 },
 "nbformat": 4,
 "nbformat_minor": 2
}

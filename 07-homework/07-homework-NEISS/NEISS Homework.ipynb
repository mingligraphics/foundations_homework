{
 "cells": [
  {
   "cell_type": "markdown",
   "metadata": {},
   "source": [
    "# NEISS\n",
    "\n",
    "* **Dataset:** `neiss2017.tsv` - NEISS, again! But an old one, because the newer one is too nice.\n",
    "* **Source:** https://www.cpsc.gov/Research--Statistics/NEISS-Injury-Data"
   ]
  },
  {
   "cell_type": "markdown",
   "metadata": {},
   "source": [
    "## 0) Import what you need"
   ]
  },
  {
   "cell_type": "code",
   "execution_count": null,
   "metadata": {},
   "outputs": [],
   "source": []
  },
  {
   "cell_type": "markdown",
   "metadata": {},
   "source": [
    "# Read in `neiss2017.tsv` and inspect your data\n",
    "\n",
    "* Check out the first few lines, the last few lines\n",
    "* See how many rows and columns it is\n",
    "* Check data types to be sure they are what you think they are\n",
    "* If you already know some values that should be NaN, you can use `na_values` to set them up"
   ]
  },
  {
   "cell_type": "code",
   "execution_count": null,
   "metadata": {},
   "outputs": [],
   "source": []
  },
  {
   "cell_type": "code",
   "execution_count": null,
   "metadata": {},
   "outputs": [],
   "source": []
  },
  {
   "cell_type": "code",
   "execution_count": null,
   "metadata": {},
   "outputs": [],
   "source": []
  },
  {
   "cell_type": "code",
   "execution_count": null,
   "metadata": {},
   "outputs": [],
   "source": []
  },
  {
   "cell_type": "markdown",
   "metadata": {},
   "source": [
    "## Remove dirty data\n",
    "\n",
    "Last time we discovered the row where Treatment Date is missing is bad, so let's remove every row where `Treatment Date` is `NaN`."
   ]
  },
  {
   "cell_type": "code",
   "execution_count": null,
   "metadata": {},
   "outputs": [],
   "source": []
  },
  {
   "cell_type": "markdown",
   "metadata": {},
   "source": [
    "We also didn't like babies under the age of 2. Remove anyone who is 200 or older.\n",
    "\n",
    "* **Tip:** Removing anyone 200 or older is the same as only keeping anyone under 200\n",
    "* **Tip:** Because of the bad data, `df.Age` is probably a string"
   ]
  },
  {
   "cell_type": "code",
   "execution_count": null,
   "metadata": {},
   "outputs": [],
   "source": []
  },
  {
   "cell_type": "markdown",
   "metadata": {},
   "source": [
    "If you do this correctly, `df.Age.median()` should be 26."
   ]
  },
  {
   "cell_type": "code",
   "execution_count": null,
   "metadata": {},
   "outputs": [],
   "source": []
  },
  {
   "cell_type": "markdown",
   "metadata": {},
   "source": [
    "# Recoding your data\n",
    "\n",
    "Right now `Sex` is `0`, `1`, `2`, and `Race`, `Product_1`, and a lot of other fields are secret codes. Let's fix this up! In class we did a lot of `.replace(...)` by manually typing in, but there's an easier way.\n",
    "\n",
    "## Recode with the CSV\n",
    "\n",
    "There's a text file called `neiss_fmt.txt` in this folder that explains what all the codes are. Read it in, paying attention to what the separator is.\n",
    "\n",
    "* **Tip:** Don't call it `df` or your other dataframe will disappear! Maybe call it `codes` or something."
   ]
  },
  {
   "cell_type": "code",
   "execution_count": null,
   "metadata": {},
   "outputs": [],
   "source": []
  },
  {
   "cell_type": "markdown",
   "metadata": {},
   "source": [
    "### What are all the different 'Format name's?"
   ]
  },
  {
   "cell_type": "code",
   "execution_count": null,
   "metadata": {},
   "outputs": [],
   "source": []
  },
  {
   "cell_type": "markdown",
   "metadata": {},
   "source": [
    "What do they mean?\n",
    "\n",
    "* `PROD` is product\n",
    "* `DIAG` is diagnosis\n",
    "* `BDYPT` is the body part injured\n",
    "* `AGELTTWO` is for the of people less than 2\n",
    "* `LOC` is location\n",
    "* `DISP` is disposition (outcome)\n",
    "* `RACE` is the person's race\n",
    "* `FIRE` is whether this was fire-related\n",
    "* `GENDER` matches up with the `Sex` column\n",
    "\n",
    "Each of these is a **separate set of codes**. \n",
    "\n",
    "### Look at just the codes related to `GENDER`.\n",
    "\n",
    "* **Hint:** Make sure when you filter you don't try to filter through `df`! It's really easy to forget this dataframe is named `codes` and do something like `df[codes.name == \"blah blah\"]`."
   ]
  },
  {
   "cell_type": "code",
   "execution_count": null,
   "metadata": {},
   "outputs": [],
   "source": []
  },
  {
   "cell_type": "markdown",
   "metadata": {},
   "source": [
    "### Convert the codes into a dictionary\n",
    "\n",
    "We can use this with `.replace` if we can somehow turn it into a dictionary! In class, we used this code:\n",
    "\n",
    "```\n",
    "dict(zip(code.code, code.name))\n",
    "```\n",
    "\n",
    "to create a dictionary where the keys were the `code` column and the values were the `name` column. Try to turn **just the `GENDER` results** into a dictionary. Your result should look like this:\n",
    "\n",
    "```\n",
    "{0: 'UNKNOWN', 1: 'MALE', 2: 'FEMALE'}\n",
    "```\n",
    "\n",
    "* **Tip:** `\"Starting value for format\"` is the code - it's always equal the `Ending value` except for the weird name stuff.\n",
    "* **Tip:** It might be useful to save your filtered dataframe into something like `gender_codes` to keep your code clean."
   ]
  },
  {
   "cell_type": "code",
   "execution_count": null,
   "metadata": {},
   "outputs": [],
   "source": []
  },
  {
   "cell_type": "markdown",
   "metadata": {},
   "source": [
    "### Use that dictionary to decode your `Sex` column\n",
    "\n",
    "Convert your `Sex` column into being `MALE`, `FEMALE`, and `UNKNOWN`. When you're done, your `df.Sex.value_counts()` should look like this:\n",
    "\n",
    "```\n",
    "MALE      208695\n",
    "FEMALE    178203\n",
    "Name: Sex, dtype: int64\n",
    "```\n",
    "\n",
    "It might have some `UNKNOWN` if you didn't do `na_values=[0...` when reading in your csv, but that's okay!\n",
    "\n",
    "* **Hint:** Remember that when you update a column you need to save the changes back into the column\n",
    "* **Hint:** You should probably save your dictionary into a new variable, maybe `gender_code_dict`"
   ]
  },
  {
   "cell_type": "code",
   "execution_count": null,
   "metadata": {},
   "outputs": [],
   "source": []
  },
  {
   "cell_type": "code",
   "execution_count": null,
   "metadata": {},
   "outputs": [],
   "source": []
  },
  {
   "cell_type": "markdown",
   "metadata": {},
   "source": [
    "## Decode the rest of your columns!"
   ]
  },
  {
   "cell_type": "markdown",
   "metadata": {},
   "source": [
    "Use `RACE` and `PROD` and `BDYPRT` to un-encode in the appropriate columns.\n",
    "\n",
    "You'll need to do all of the same stuff you did above - filter `codes`, build the dictionary, use `.replace` - but it shouldn't be so bad if you cut and paste well (3 lines per replace, but **be careful** - if you accidentally overwrite one of your columns with the wrong data, you'll need to restart your kernel and re-run your cells).\n",
    "\n",
    "* **Tip:** Look at the `.value_counts()` we did before for `Format name`, and compare it with your column names in your `df`. Or you can be responsible and read the codebook, but you can probably guess!"
   ]
  },
  {
   "cell_type": "code",
   "execution_count": null,
   "metadata": {},
   "outputs": [],
   "source": []
  },
  {
   "cell_type": "code",
   "execution_count": null,
   "metadata": {},
   "outputs": [],
   "source": []
  },
  {
   "cell_type": "code",
   "execution_count": null,
   "metadata": {},
   "outputs": [],
   "source": []
  },
  {
   "cell_type": "markdown",
   "metadata": {},
   "source": [
    "## Test your decoding:\n",
    "\n",
    "**Did you decode things correctly?** Let's find out!\n",
    "\n",
    "`df.Body_Part.value_counts().head(2)` should give you\n",
    "\n",
    "```\n",
    "75 - HEAD    63798\n",
    "76 - FACE    32879\n",
    "```"
   ]
  },
  {
   "cell_type": "code",
   "execution_count": null,
   "metadata": {},
   "outputs": [],
   "source": []
  },
  {
   "cell_type": "markdown",
   "metadata": {},
   "source": [
    "`df.Race.value_counts().head(2)` should give you\n",
    "\n",
    "```\n",
    "WHITE                     160527\n",
    "BLACK/AFRICAN AMERICAN     55144\n",
    "```"
   ]
  },
  {
   "cell_type": "code",
   "execution_count": null,
   "metadata": {},
   "outputs": [],
   "source": []
  },
  {
   "cell_type": "markdown",
   "metadata": {},
   "source": [
    "`df.Product_1.value_counts().head(2)` should give you\n",
    "\n",
    "```\n",
    "1842 - STAIRS OR STEPS                 30647\n",
    "1807 - FLOORS OR FLOORING MATERIALS    29629\n",
    "```"
   ]
  },
  {
   "cell_type": "code",
   "execution_count": null,
   "metadata": {},
   "outputs": [],
   "source": []
  },
  {
   "cell_type": "markdown",
   "metadata": {},
   "source": [
    "## Save a checkpoint!\n",
    "\n",
    "I like that we cleaned it up, save the file as `neiss_cleaned_decoded.csv`\n",
    "\n",
    "* **Tip:** Don't you dare let the index get saved"
   ]
  },
  {
   "cell_type": "code",
   "execution_count": null,
   "metadata": {},
   "outputs": [],
   "source": []
  },
  {
   "cell_type": "markdown",
   "metadata": {},
   "source": [
    "### Analyzing the goings-on\n",
    "\n",
    "Find every injury involving bicycles.\n",
    "\n",
    "* **Tip:** You're searching `Product_1`, not `Narrative`\n",
    "* **Tip:** What about BICYCLE vs bicycle? Do you need to care? How can you deal with it?"
   ]
  },
  {
   "cell_type": "code",
   "execution_count": null,
   "metadata": {},
   "outputs": [],
   "source": []
  },
  {
   "cell_type": "markdown",
   "metadata": {},
   "source": [
    "Graph the age distribution of injuries involving unicycles."
   ]
  },
  {
   "cell_type": "code",
   "execution_count": null,
   "metadata": {},
   "outputs": [],
   "source": []
  },
  {
   "cell_type": "markdown",
   "metadata": {},
   "source": [
    "What was the narrative for the oldest six people who got injured on bicycles?\n",
    "\n",
    "* **Tip:** There's some `pd.set_option` magic that will allow you to read the whole thing without a `...`"
   ]
  },
  {
   "cell_type": "code",
   "execution_count": null,
   "metadata": {},
   "outputs": [],
   "source": []
  },
  {
   "cell_type": "markdown",
   "metadata": {},
   "source": [
    "## What's the age distribution for people injured surfing?"
   ]
  },
  {
   "cell_type": "code",
   "execution_count": null,
   "metadata": {},
   "outputs": [],
   "source": []
  },
  {
   "cell_type": "markdown",
   "metadata": {},
   "source": [
    "## Golfing?"
   ]
  },
  {
   "cell_type": "code",
   "execution_count": null,
   "metadata": {},
   "outputs": [],
   "source": []
  },
  {
   "cell_type": "markdown",
   "metadata": {},
   "source": [
    "Wait, that's real weird. **Find 5 cases of people between the ages of 8 and 10 being injured golfing**."
   ]
  },
  {
   "cell_type": "code",
   "execution_count": null,
   "metadata": {},
   "outputs": [],
   "source": []
  },
  {
   "cell_type": "markdown",
   "metadata": {},
   "source": [
    "Okay, that makes more sense."
   ]
  },
  {
   "cell_type": "markdown",
   "metadata": {},
   "source": [
    "## Plot age histograms for surfing, golfing, and bicycling\n",
    "\n",
    "* **Tip:** Just plot them one after the other in the same cell! These days pandas put them all into the same graphic.\n",
    "\n",
    "If you plot them in that order, import this\n",
    "\n",
    "```\n",
    "import matplotlib.pyplot as plt\n",
    "```\n",
    "\n",
    "And add a legend like this:\n",
    "\n",
    "```\n",
    "plt.legend(['Surfing', 'Cycling', 'Golfing'])\n",
    "```\n",
    "\n",
    "**WHAT'S THAT?** You want more specific bins???? When making a histogram, instead of `bins=50`, you can say \"give me bins from 0 to 100 in chunks of 5\" by doing this: `bins=range(0,100,5)`"
   ]
  },
  {
   "cell_type": "code",
   "execution_count": null,
   "metadata": {},
   "outputs": [],
   "source": [
    "# TIP: If you want to see the distribution of people injured by guns, it migt look like this:\n",
    "# Get every row where the product involves \"gun\"\n",
    "# Get the ages for those rows, and drop any ages that are missing\n",
    "# Do a weird 'weights' thing that you have to do in order to get a percentage in the graph\n",
    "ages = df[df.Product_1.str.contains(\"gun\", case=False)].Age.dropna()\n",
    "weights = np.ones_like(ages)/float(len(ages))\n",
    "ages.hist(alpha=0.5, weights=weights)"
   ]
  },
  {
   "cell_type": "code",
   "execution_count": null,
   "metadata": {},
   "outputs": [],
   "source": []
  },
  {
   "cell_type": "markdown",
   "metadata": {},
   "source": [
    "## I'm irritated by the `Narrative_1` and `Narrative_2` columns being separate\n",
    "\n",
    "Combine them into one column called `Narrative`. The first total narrative should be\n",
    "\n",
    "```\n",
    "21YOM WAS BOXING WITH FRIEND WHILE DRINKING AND GOT PUNCHED IN THE FACE. BAC= 93.6 DX HEAD INJURY AND ALCOHOL INTOXICATION\n",
    "```"
   ]
  },
  {
   "cell_type": "code",
   "execution_count": null,
   "metadata": {},
   "outputs": [],
   "source": []
  },
  {
   "cell_type": "markdown",
   "metadata": {},
   "source": [
    "I don't have anything else for us to do with that one, I just didn't like it."
   ]
  },
  {
   "cell_type": "markdown",
   "metadata": {},
   "source": [
    "## More on products"
   ]
  },
  {
   "cell_type": "markdown",
   "metadata": {},
   "source": [
    "Musical instruments cause injury every now and again. What are the musical instrument categories?\n",
    "\n",
    "* **Tip:** \"MUSICAL INSTRUMENT\" is too specific, make it shorter!\n",
    "* **Tip:** *WE ARE NOT INTERESTED IN WIND CHIMES AT ALL!!!! THEY ARE NOT MUSICAL INSTRUMENTS!!!!*"
   ]
  },
  {
   "cell_type": "code",
   "execution_count": null,
   "metadata": {},
   "outputs": [],
   "source": []
  },
  {
   "cell_type": "markdown",
   "metadata": {},
   "source": [
    "What parts of the body do most musical instrument injuries affect?"
   ]
  },
  {
   "cell_type": "code",
   "execution_count": null,
   "metadata": {},
   "outputs": [],
   "source": []
  },
  {
   "cell_type": "markdown",
   "metadata": {},
   "source": [
    "## What's the average age of a person injured by a corkscrew vs a bottle opener?\n",
    "\n",
    "* **Tip:** Be careful about case sensitivity!"
   ]
  },
  {
   "cell_type": "code",
   "execution_count": null,
   "metadata": {},
   "outputs": [],
   "source": []
  },
  {
   "cell_type": "code",
   "execution_count": null,
   "metadata": {},
   "outputs": [],
   "source": []
  },
  {
   "cell_type": "markdown",
   "metadata": {},
   "source": [
    "### Why should you not write a story about that?\n",
    "\n",
    "You might need to check some more statistics about i."
   ]
  },
  {
   "cell_type": "code",
   "execution_count": null,
   "metadata": {},
   "outputs": [],
   "source": []
  },
  {
   "cell_type": "markdown",
   "metadata": {},
   "source": [
    "## Save the month into a separate column\n",
    "\n",
    "Looking at `Treatment Date`, what's the month? How can you pull it out easily/lazily?\n",
    "\n",
    "* **Tip:** You'll want to convert it to an integer\n",
    "* **Tip:** You might get an error that it doesn't understand the integer `01/01` - how can you make sure it only takes the first `01` and not include the second one?\n",
    "* **Tip:** Do a `.value_counts()` to be sure you're getting the month and not the day of the year!"
   ]
  },
  {
   "cell_type": "code",
   "execution_count": null,
   "metadata": {},
   "outputs": [],
   "source": []
  },
  {
   "cell_type": "markdown",
   "metadata": {},
   "source": [
    "## What month is most popular for injuries involving air conditioners?"
   ]
  },
  {
   "cell_type": "code",
   "execution_count": null,
   "metadata": {},
   "outputs": [],
   "source": []
  },
  {
   "cell_type": "markdown",
   "metadata": {},
   "source": [
    "## How about heaters?\n",
    "\n",
    "I would have said \"space heaters\" but that doesn't give any results!"
   ]
  },
  {
   "cell_type": "code",
   "execution_count": null,
   "metadata": {},
   "outputs": [],
   "source": []
  },
  {
   "cell_type": "markdown",
   "metadata": {},
   "source": [
    "## Find the 5 most dangerous products"
   ]
  },
  {
   "cell_type": "code",
   "execution_count": null,
   "metadata": {},
   "outputs": [],
   "source": []
  },
  {
   "cell_type": "markdown",
   "metadata": {},
   "source": [
    "## Find the 5 most dangerous products for women vs men\n",
    "\n",
    "* **Tip:** This is less of a tip and more of an answer, but after your `value_counts()` you should add `.groupby(level=0).nlargest(10)` and it should work"
   ]
  },
  {
   "cell_type": "code",
   "execution_count": null,
   "metadata": {},
   "outputs": [],
   "source": []
  },
  {
   "cell_type": "markdown",
   "metadata": {},
   "source": [
    "# What is the distribution of peoples' weights?\n",
    "\n",
    "Does that seem right? Why do you think it might look like that? (It might have something to do with the corkscrew vs. bottle openers question!)"
   ]
  },
  {
   "cell_type": "code",
   "execution_count": null,
   "metadata": {},
   "outputs": [],
   "source": []
  }
 ],
 "metadata": {
  "kernelspec": {
   "display_name": "Python 3",
   "language": "python",
   "name": "python3"
  },
  "language_info": {
   "codemirror_mode": {
    "name": "ipython",
    "version": 3
   },
   "file_extension": ".py",
   "mimetype": "text/x-python",
   "name": "python",
   "nbconvert_exporter": "python",
   "pygments_lexer": "ipython3",
   "version": "3.6.7"
  }
 },
 "nbformat": 4,
 "nbformat_minor": 2
}

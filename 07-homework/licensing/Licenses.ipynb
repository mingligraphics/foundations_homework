{
 "cells": [
  {
   "cell_type": "markdown",
   "metadata": {},
   "source": [
    "# Texas Licenses\n",
    "\n",
    "We originall got our dataset from the [License Files page](https://www.license.state.tx.us/licensesearch/licfile.asp) from the Texas Department of Licensing and Regulation, but they've changed around since then! I'm pretty sure it's [this dataset](https://www.opendatanetwork.com/dataset/data.texas.gov/7358-krk7), but we'll just use a local version instead of the most current."
   ]
  },
  {
   "cell_type": "markdown",
   "metadata": {},
   "source": [
    "# PART ONE: OPENING UP OUR DATASET"
   ]
  },
  {
   "cell_type": "markdown",
   "metadata": {},
   "source": [
    "## 0. Do your setup\n",
    "\n",
    "Import what you need to import, etc."
   ]
  },
  {
   "cell_type": "code",
   "execution_count": null,
   "metadata": {},
   "outputs": [],
   "source": []
  },
  {
   "cell_type": "markdown",
   "metadata": {},
   "source": [
    "## 1. Open the file\n",
    "\n",
    "We'll start with `licfile.csv`, which is a list of licenses."
   ]
  },
  {
   "cell_type": "code",
   "execution_count": null,
   "metadata": {},
   "outputs": [],
   "source": []
  },
  {
   "cell_type": "markdown",
   "metadata": {},
   "source": [
    "## 2. That looks terrible, let's add column names.\n",
    "\n",
    "It apparently doesn't have headers! **Read the file in again, but setting your own column names**. Their [current data dictionary might not perfectly match](https://www.opendatanetwork.com/dataset/data.texas.gov/7358-krk7), but you can use it to understand what the columns are. For the dataset we're using, the order goes like this:\n",
    "\n",
    "* LICTYPE\n",
    "* LICNUMBER\n",
    "* BIZCOUNTY\n",
    "* BIZNAME\n",
    "* BIZLINE1\n",
    "* BIZLINE2\n",
    "* BIZCITYSTATE\n",
    "* BIZTELEPHONE\n",
    "* EXPIRATION\n",
    "* OWNER\n",
    "* MAILLINE1\n",
    "* MAILLINE2\n",
    "* MAILCITYSTATE\n",
    "* MAILCOUNTYCODE\n",
    "* MAILCOUNTY\n",
    "* MAILZIP\n",
    "* TELEPHONE\n",
    "* LICSUBTYPE\n",
    "* CEFLAG\n",
    "\n",
    "**Note:** You can rename the columns to things that make sense - \"expiration\" is a little more manageable than \"LICENSE EXPIRATION DATE (MMDDCCYY)\". I've named my License Type column LICTYPE, so if you haven't you'll have to change the rest of my sample code to match."
   ]
  },
  {
   "cell_type": "code",
   "execution_count": null,
   "metadata": {},
   "outputs": [],
   "source": []
  },
  {
   "cell_type": "markdown",
   "metadata": {},
   "source": [
    "# 3. Force string columns to be strings\n",
    "\n",
    "The county code and expiration dates are being read in as numbers, which is going to cause some trouble later on. You can force a column to be a certain type (most usually strings) when reading it in with the following code:\n",
    "\n",
    "    df = pd.read_csv(\"your-filename.csv\", dtype={\"colname1\": str, \"colname2\": str})\n",
    "\n",
    "You don't need to do it for every column, just the ones you want to force!\n",
    "\n",
    "**Re-import the file, forcing the expiration date, license number, mailing address county code, mailing zip code and telephone to all be strings.**"
   ]
  },
  {
   "cell_type": "code",
   "execution_count": null,
   "metadata": {},
   "outputs": [],
   "source": []
  },
  {
   "cell_type": "markdown",
   "metadata": {},
   "source": [
    "Check the data types of your columns to be sure! If you do it right they'll be `object` (not `str`, oddly)."
   ]
  },
  {
   "cell_type": "code",
   "execution_count": null,
   "metadata": {},
   "outputs": [],
   "source": []
  },
  {
   "cell_type": "markdown",
   "metadata": {},
   "source": [
    "## 4. Convert those expiration dates from MMDDYYYY to YYYY-MM-DD\n",
    "\n",
    "List slicing forever! It's the thing with the `[]`. There are like five ways to do this one."
   ]
  },
  {
   "cell_type": "code",
   "execution_count": null,
   "metadata": {},
   "outputs": [],
   "source": []
  },
  {
   "cell_type": "markdown",
   "metadata": {},
   "source": [
    "Check the first five expirations to make sure they look right."
   ]
  },
  {
   "cell_type": "code",
   "execution_count": null,
   "metadata": {},
   "outputs": [],
   "source": []
  },
  {
   "cell_type": "markdown",
   "metadata": {},
   "source": [
    "# PART TWO: LOOKING AT LICENSES"
   ]
  },
  {
   "cell_type": "markdown",
   "metadata": {},
   "source": [
    "## 5. What are the top 10 most common licenses?"
   ]
  },
  {
   "cell_type": "code",
   "execution_count": null,
   "metadata": {},
   "outputs": [],
   "source": []
  },
  {
   "cell_type": "markdown",
   "metadata": {},
   "source": [
    "## 6. What are the top 10 least common?"
   ]
  },
  {
   "cell_type": "code",
   "execution_count": null,
   "metadata": {},
   "outputs": [],
   "source": []
  },
  {
   "cell_type": "markdown",
   "metadata": {},
   "source": [
    "## 7. Try to select everyone who is any type of electrician.\n",
    "\n",
    "You're going to get an error about `\"cannot index with vector containing NA / NaN values\"`. Let's work our way in there."
   ]
  },
  {
   "cell_type": "code",
   "execution_count": null,
   "metadata": {},
   "outputs": [],
   "source": [
    "# Yes I know I left this in here, it's a learning experience!\n",
    "df[df['LICTYPE'].str.contains(\"Electrician\")]"
   ]
  },
  {
   "cell_type": "markdown",
   "metadata": {},
   "source": [
    "## 8. How many of the rows of LICTYPE are NaN?"
   ]
  },
  {
   "cell_type": "code",
   "execution_count": null,
   "metadata": {},
   "outputs": [],
   "source": []
  },
  {
   "cell_type": "markdown",
   "metadata": {},
   "source": [
    "Over 7000 licenses don't have types! As a result, when we look for license types with electricians - aka do `df['LICTYPE'].str.contains(\"Electrician\")` - we get three results:\n",
    "\n",
    "* `True` means `LICTYPE` exists and contains `\"Electrician\"`\n",
    "* `False` means `LICTYPE` exists and does not contain `\"Electrician\"`\n",
    "* `NaN` means `LICTYPE` does not exist for that row"
   ]
  },
  {
   "cell_type": "markdown",
   "metadata": {},
   "source": [
    "## 9. Actually getting everyone who is an electrician"
   ]
  },
  {
   "cell_type": "code",
   "execution_count": null,
   "metadata": {},
   "outputs": [],
   "source": []
  },
  {
   "cell_type": "markdown",
   "metadata": {},
   "source": [
    "This doesn't work when trying to select electricians, though, as NaN is a no-go for a filter. We *could* filter out everywhere the LICTYPE is null, but we could also cheat a little and say \"replace all of the `NaN` values with `False` values.\"\n",
    "\n",
    "`.fillna(False)` will take every `NaN` and replace it with `False`. "
   ]
  },
  {
   "cell_type": "code",
   "execution_count": null,
   "metadata": {},
   "outputs": [],
   "source": []
  },
  {
   "cell_type": "markdown",
   "metadata": {},
   "source": [
    "## 10. What's the most popular kind of electrician?"
   ]
  },
  {
   "cell_type": "code",
   "execution_count": null,
   "metadata": {},
   "outputs": [],
   "source": []
  },
  {
   "cell_type": "markdown",
   "metadata": {},
   "source": [
    "## 11. Graph it, with the largest bar on top."
   ]
  },
  {
   "cell_type": "code",
   "execution_count": null,
   "metadata": {},
   "outputs": [],
   "source": []
  },
  {
   "cell_type": "markdown",
   "metadata": {},
   "source": [
    "## 12. How many sign electricians are there?\n",
    "\n",
    "There are a few ways to do this one."
   ]
  },
  {
   "cell_type": "code",
   "execution_count": null,
   "metadata": {},
   "outputs": [],
   "source": []
  },
  {
   "cell_type": "markdown",
   "metadata": {},
   "source": [
    "# PART THREE: LOOKING AT LAST NAMES"
   ]
  },
  {
   "cell_type": "markdown",
   "metadata": {},
   "source": [
    "## 13. Extract every owner's last name\n",
    "\n",
    "You want everything before the comma. We've done this before (in a few different ways!).\n",
    "\n",
    "* **Hint:** If you get an error about missing or `NaN` data, you might use `.fillna('')` to replace every empty owner name with an empty string. This might not happen to you, though, depending on how you do it!\n",
    "\n",
    "* **Hint:** You probably want to do `expand=False` on your extraction to make sure it comes out as a series instead of a dataframe."
   ]
  },
  {
   "cell_type": "code",
   "execution_count": null,
   "metadata": {},
   "outputs": [],
   "source": []
  },
  {
   "cell_type": "code",
   "execution_count": null,
   "metadata": {},
   "outputs": [],
   "source": []
  },
  {
   "cell_type": "markdown",
   "metadata": {},
   "source": [
    "## 14. Save the last name into a new column\n",
    "\n",
    "Then check to make sure it exists, and you successfully saved it into the dataframe."
   ]
  },
  {
   "cell_type": "code",
   "execution_count": null,
   "metadata": {},
   "outputs": [],
   "source": []
  },
  {
   "cell_type": "code",
   "execution_count": null,
   "metadata": {},
   "outputs": [],
   "source": []
  },
  {
   "cell_type": "markdown",
   "metadata": {},
   "source": [
    "# 15. What are the ten most popular last names?"
   ]
  },
  {
   "cell_type": "code",
   "execution_count": null,
   "metadata": {},
   "outputs": [],
   "source": []
  },
  {
   "cell_type": "markdown",
   "metadata": {},
   "source": [
    "## 16. What are the most popular licenses for people with the last name Nguyen? Tran? Le?\n",
    "\n",
    "Those are the top 3 last names in Vietnam."
   ]
  },
  {
   "cell_type": "code",
   "execution_count": null,
   "metadata": {},
   "outputs": [],
   "source": []
  },
  {
   "cell_type": "code",
   "execution_count": null,
   "metadata": {},
   "outputs": [],
   "source": []
  },
  {
   "cell_type": "code",
   "execution_count": null,
   "metadata": {},
   "outputs": [],
   "source": []
  },
  {
   "cell_type": "markdown",
   "metadata": {},
   "source": [
    "## 17. Now do all of that in one line - most popular licenses for Nguyen, Tran and Le - without using `&`"
   ]
  },
  {
   "cell_type": "code",
   "execution_count": null,
   "metadata": {},
   "outputs": [],
   "source": []
  },
  {
   "cell_type": "markdown",
   "metadata": {},
   "source": [
    "## 18. Most popular licenses for Garcia? Rodriguez? Martinez?\n",
    "\n",
    "Those are the 3 most common last names for self-identifying Hispanics in the USA."
   ]
  },
  {
   "cell_type": "code",
   "execution_count": null,
   "metadata": {},
   "outputs": [],
   "source": []
  },
  {
   "cell_type": "code",
   "execution_count": null,
   "metadata": {},
   "outputs": [],
   "source": []
  },
  {
   "cell_type": "code",
   "execution_count": null,
   "metadata": {},
   "outputs": [],
   "source": []
  },
  {
   "cell_type": "markdown",
   "metadata": {},
   "source": [
    "## 19. Most popular license for anyone with a last name that ENDS in `-ez`\n",
    "\n",
    "The answer is not `.str.contains('ez')`, but it isn't necessarily too different. **Make sure your numbers match mine.**\n",
    "\n",
    "One way involves a `.str.` method that check if a string ends with something, the other way involves a regular expression that has a \"end of the string\" marker (similar to how we've used `^` for the start of a string before). If you're thinking about the latter, I might take a look at [this page](http://www.rexegg.com/regex-quickstart.html) under \"Anchors and Boundaries\". "
   ]
  },
  {
   "cell_type": "code",
   "execution_count": null,
   "metadata": {},
   "outputs": [],
   "source": []
  },
  {
   "cell_type": "markdown",
   "metadata": {},
   "source": [
    "## 20. Get that as a percentage"
   ]
  },
  {
   "cell_type": "code",
   "execution_count": null,
   "metadata": {},
   "outputs": [],
   "source": []
  },
  {
   "cell_type": "markdown",
   "metadata": {},
   "source": [
    "# PART FOUR: LOOKING AT FIRST NAMES"
   ]
  },
  {
   "cell_type": "markdown",
   "metadata": {},
   "source": [
    "## 21. Extract the owner's first name\n",
    "\n",
    "First, a little example of how regular expressions work with pandas."
   ]
  },
  {
   "cell_type": "code",
   "execution_count": null,
   "metadata": {},
   "outputs": [],
   "source": [
    "# Build a dataframe\n",
    "sample_df = pd.DataFrame([\n",
    "    { 'name': 'Mary', 'sentence': \"I am 90 years old\" },\n",
    "    { 'name': 'Jack', 'sentence': \"I am 4 years old\" },\n",
    "    { 'name': 'Anne', 'sentence': \"I am 27 years old\" },\n",
    "    { 'name': 'Joel', 'sentence': \"I am 13 years old\" },\n",
    "])\n",
    "# Look at the dataframe\n",
    "sample_df"
   ]
  },
  {
   "cell_type": "code",
   "execution_count": null,
   "metadata": {},
   "outputs": [],
   "source": [
    "# Given the sentence, \"I am X years old\", extract digits from the middle using ()\n",
    "# Anything you put in () will be saved as an output.\n",
    "# If you do expand=True it makes you a dataframe, but we don't want that.\n",
    "sample_df['sentence'].str.extract(\"I am (\\d+) years old\", expand=False)"
   ]
  },
  {
   "cell_type": "code",
   "execution_count": null,
   "metadata": {},
   "outputs": [],
   "source": [
    "# Save it into a new column\n",
    "sample_df['age'] = sample_df['sentence'].str.extract(\"I am (\\d+) years old\", expand=False)\n",
    "sample_df.head()"
   ]
  },
  {
   "cell_type": "markdown",
   "metadata": {},
   "source": [
    "**Now let's think about how we're going to extract the first names.** Begin by looking at a few full names."
   ]
  },
  {
   "cell_type": "code",
   "execution_count": null,
   "metadata": {},
   "outputs": [],
   "source": [
    "df['OWNER'].head(10)"
   ]
  },
  {
   "cell_type": "markdown",
   "metadata": {},
   "source": [
    "What can you use to find the first name? It helps to say \"this is to the left and this is to the right, and I'm going to take anything in the middle.\"\n",
    "\n",
    "Once you figure out how to extract it, you can do a `.head(10)` to just look at the first few."
   ]
  },
  {
   "cell_type": "code",
   "execution_count": null,
   "metadata": {},
   "outputs": [],
   "source": []
  },
  {
   "cell_type": "markdown",
   "metadata": {},
   "source": [
    "## 22. Saving the owner's first name\n",
    "\n",
    "Save the name to a new column, `FIRSTNAME`."
   ]
  },
  {
   "cell_type": "code",
   "execution_count": null,
   "metadata": {},
   "outputs": [],
   "source": []
  },
  {
   "cell_type": "markdown",
   "metadata": {},
   "source": [
    "# 23. Examine everyone without a first name\n",
    "\n",
    "I purposefully didn't do a nicer regex in order to have some screwed-up results. **How many people are there without an entry in the first name column?**\n",
    "\n",
    "Your numbers might be different than mine."
   ]
  },
  {
   "cell_type": "code",
   "execution_count": null,
   "metadata": {},
   "outputs": [],
   "source": []
  },
  {
   "cell_type": "markdown",
   "metadata": {},
   "source": [
    "What do their names look like?"
   ]
  },
  {
   "cell_type": "code",
   "execution_count": null,
   "metadata": {},
   "outputs": [],
   "source": []
  },
  {
   "cell_type": "markdown",
   "metadata": {},
   "source": [
    "## 24. If it's a problem, you can fix it (if you'd like!)\n",
    "\n",
    "Maybe you have another regular expression that works better with JUST these people? It really depends on how you've put together your previous regex!\n",
    "\n",
    "If you'd like to use a separate regex for this group, you can use code like this:\n",
    "\n",
    "`df.loc[df.FIRSTNAME.isnull(), 'FIRSTNAME'] = .....`\n",
    "\n",
    "That will only set the `FIRSTNAME` for people where `FIRSTNAME` is null."
   ]
  },
  {
   "cell_type": "code",
   "execution_count": null,
   "metadata": {},
   "outputs": [],
   "source": []
  },
  {
   "cell_type": "markdown",
   "metadata": {},
   "source": [
    "How many empty first names do we have now?"
   ]
  },
  {
   "cell_type": "code",
   "execution_count": null,
   "metadata": {},
   "outputs": [],
   "source": []
  },
  {
   "cell_type": "markdown",
   "metadata": {},
   "source": [
    "My code before only worked for people with middle names, but now it got people without middle names, too. Looking much better!"
   ]
  },
  {
   "cell_type": "markdown",
   "metadata": {},
   "source": [
    "## 25. Most popular first names?"
   ]
  },
  {
   "cell_type": "code",
   "execution_count": null,
   "metadata": {},
   "outputs": [],
   "source": []
  },
  {
   "cell_type": "markdown",
   "metadata": {},
   "source": [
    "## 26. Most popular first names for a Cosmetology Operator, Cosmetology Esthetician, Cosmetologist, and okay honestly anything that seems similar?\n",
    "\n",
    "If you get an error about \"cannot index vector containing NA / NaN values\" remember `.fillna(False)` - if a row doesn't have a license, it doesn't give a `True`/`False`, so we force all of the empty rows to be `False`."
   ]
  },
  {
   "cell_type": "code",
   "execution_count": null,
   "metadata": {},
   "outputs": [],
   "source": []
  },
  {
   "cell_type": "markdown",
   "metadata": {},
   "source": [
    "## 27. Most popular first names for anything involving electricity?"
   ]
  },
  {
   "cell_type": "code",
   "execution_count": null,
   "metadata": {},
   "outputs": [],
   "source": []
  },
  {
   "cell_type": "markdown",
   "metadata": {},
   "source": [
    "## 28. Can we be any more obnoxious in this assignment?\n",
    "\n",
    "Not only are we going to detect gender from first names, but we're also going to use a library that has the terrible name of [sex machine](https://github.com/ferhatelmas/sexmachine/). Once upon a time there was Ruby package named sex machine and everyone was like \"come on are you six years old? is this how we do things?\" and the guy was like \"you're completely right I'm renaming it to [gender detector](https://github.com/bmuller/gender_detector)\" and the world was Nice and Good again. Apparently Python didn't get the message.\n",
    "\n",
    "Except actually sexmachine doesn't work on Python 3 because it's from 300 BC so we're going to use a Python 3 fork called [gender guesser](https://pypi.python.org/pypi/gender-guesser/) (hooray!).\n",
    "\n",
    "#### Use `pip` or `pip3` to install gender-guesser."
   ]
  },
  {
   "cell_type": "code",
   "execution_count": null,
   "metadata": {},
   "outputs": [],
   "source": [
    "!pip install gender-guesser"
   ]
  },
  {
   "cell_type": "markdown",
   "metadata": {},
   "source": [
    "#### Test to see that it works"
   ]
  },
  {
   "cell_type": "code",
   "execution_count": null,
   "metadata": {},
   "outputs": [],
   "source": [
    "import gender_guesser.detector as gender\n",
    "\n",
    "detector = gender.Detector(case_sensitive=False)\n",
    "detector.get_gender('David')"
   ]
  },
  {
   "cell_type": "code",
   "execution_count": null,
   "metadata": {},
   "outputs": [],
   "source": [
    "detector.get_gender('Jose')"
   ]
  },
  {
   "cell_type": "code",
   "execution_count": null,
   "metadata": {},
   "outputs": [],
   "source": [
    "detector.get_gender('Maria')"
   ]
  },
  {
   "cell_type": "markdown",
   "metadata": {},
   "source": [
    "#### Use it on a dataframe\n",
    "\n",
    "To use something fancy like that on a dataframe, you use `.apply`. Check it out: "
   ]
  },
  {
   "cell_type": "code",
   "execution_count": null,
   "metadata": {},
   "outputs": [],
   "source": [
    "df['FIRSTNAME'].fillna('').apply(lambda name: detector.get_gender(name)).head()"
   ]
  },
  {
   "cell_type": "markdown",
   "metadata": {},
   "source": [
    "## 29. Calculate the gender of everyone's first name and save it to a column\n",
    "\n",
    "Confirm by see how many people of each gender we have"
   ]
  },
  {
   "cell_type": "code",
   "execution_count": null,
   "metadata": {},
   "outputs": [],
   "source": []
  },
  {
   "cell_type": "code",
   "execution_count": null,
   "metadata": {},
   "outputs": [],
   "source": []
  },
  {
   "cell_type": "markdown",
   "metadata": {},
   "source": [
    "## 30. We like taking risks - get rid of ambiguity\n",
    "\n",
    "* Combine the `mostly_female` into `female` \n",
    "* Combine the `mostly_male` into `male`\n",
    "* Replace `andy` (androgynous) and `unknown` with `NaN`\n",
    "\n",
    "you can get NaN not by making a string, but with `import numpy as np` and then using `np.nan`."
   ]
  },
  {
   "cell_type": "code",
   "execution_count": null,
   "metadata": {},
   "outputs": [],
   "source": [
    "import numpy as np\n",
    "\n"
   ]
  },
  {
   "cell_type": "markdown",
   "metadata": {},
   "source": [
    "## 31. Do men or women have more licenses? What is the percentage of unknown genders?"
   ]
  },
  {
   "cell_type": "code",
   "execution_count": null,
   "metadata": {},
   "outputs": [],
   "source": []
  },
  {
   "cell_type": "code",
   "execution_count": null,
   "metadata": {},
   "outputs": [],
   "source": []
  },
  {
   "cell_type": "markdown",
   "metadata": {},
   "source": [
    "## 32. What are the popular unknown- or ambiguous gender first names?\n",
    "\n",
    "Yours might be different! Mine is a combination of actual ambiguity, cultural bias and dirty data."
   ]
  },
  {
   "cell_type": "code",
   "execution_count": null,
   "metadata": {},
   "outputs": [],
   "source": []
  },
  {
   "cell_type": "markdown",
   "metadata": {},
   "source": [
    "## 31. What are the most popular licenses for men? For women?"
   ]
  },
  {
   "cell_type": "code",
   "execution_count": null,
   "metadata": {},
   "outputs": [],
   "source": []
  },
  {
   "cell_type": "code",
   "execution_count": null,
   "metadata": {},
   "outputs": [],
   "source": []
  },
  {
   "cell_type": "markdown",
   "metadata": {},
   "source": [
    "## 32. What is the gender breakdown for Property Tax Appraiser? How about anything involving Tow Trucks?\n",
    "\n",
    "If you're in need, remember your good friend `.fillna(False)` to get rid of NaN values."
   ]
  },
  {
   "cell_type": "code",
   "execution_count": null,
   "metadata": {},
   "outputs": [],
   "source": []
  },
  {
   "cell_type": "code",
   "execution_count": null,
   "metadata": {},
   "outputs": [],
   "source": []
  },
  {
   "cell_type": "markdown",
   "metadata": {},
   "source": [
    "(By the way, what are those tow truck jobs?)"
   ]
  },
  {
   "cell_type": "code",
   "execution_count": null,
   "metadata": {},
   "outputs": [],
   "source": []
  },
  {
   "cell_type": "markdown",
   "metadata": {},
   "source": [
    "## 33. Graph them!\n",
    "\n",
    "And let's **give them titles** so we know which is which."
   ]
  },
  {
   "cell_type": "code",
   "execution_count": null,
   "metadata": {},
   "outputs": [],
   "source": []
  },
  {
   "cell_type": "code",
   "execution_count": null,
   "metadata": {},
   "outputs": [],
   "source": []
  },
  {
   "cell_type": "markdown",
   "metadata": {},
   "source": [
    "## 34. Calcuate the gender bias for profession\n",
    "\n",
    "I spent like an hour on this and then realized a super easy way to do it. Welcome to programming! I'll do this part for you."
   ]
  },
  {
   "cell_type": "code",
   "execution_count": null,
   "metadata": {},
   "outputs": [],
   "source": [
    "# So when you do .value_counts(), it gives you an index and a value\n",
    "df[df['GENDER'] == 'male'].LICTYPE.value_counts().head()"
   ]
  },
  {
   "cell_type": "markdown",
   "metadata": {},
   "source": [
    "We did `pd.concat` to combine dataframes, but you can also use it to combine series (like the results of `value_counts()`). If you give it a few `value_counts()` and give it some column names it'll make something real nice."
   ]
  },
  {
   "cell_type": "code",
   "execution_count": null,
   "metadata": {},
   "outputs": [],
   "source": [
    "# All of the values_counts() we will be combining\n",
    "vc_series = [\n",
    "    df[df['GENDER'] == 'male'].LICTYPE.value_counts(),\n",
    "    df[df['GENDER'] == 'female'].LICTYPE.value_counts(),\n",
    "    df[df['GENDER'].isnull()].LICTYPE.value_counts()\n",
    "]\n",
    "# You need axis=1 so it combines them as columns\n",
    "gender_df = pd.concat(vc_series, axis=1)\n",
    "gender_df.head()"
   ]
  },
  {
   "cell_type": "code",
   "execution_count": null,
   "metadata": {},
   "outputs": [],
   "source": [
    "# Turn \"A/C Contractor\" etc into an actual column instead of an index\n",
    "gender_df.reset_index(inplace=True)\n",
    "gender_df.head()"
   ]
  },
  {
   "cell_type": "code",
   "execution_count": null,
   "metadata": {},
   "outputs": [],
   "source": [
    "# Rename the columns appropriately\n",
    "gender_df.columns = [\"license\", \"male\", \"female\", \"unknown\"]\n",
    "# Clean up the NaN by replacing them with zeroes\n",
    "gender_df.fillna(0, inplace=True)\n",
    "gender_df.head()"
   ]
  },
  {
   "cell_type": "markdown",
   "metadata": {},
   "source": [
    "## 35. Add new columns for total licenses, percent known (not percent unknown!), percent male (of known), percent female (of known)\n",
    "\n",
    "And replace any `NaN`s with `0`."
   ]
  },
  {
   "cell_type": "code",
   "execution_count": null,
   "metadata": {},
   "outputs": [],
   "source": []
  },
  {
   "cell_type": "markdown",
   "metadata": {},
   "source": [
    "## 35. What 10 licenses with more than 2,000 people and over 75% known has the most male owners? The most female?"
   ]
  },
  {
   "cell_type": "code",
   "execution_count": null,
   "metadata": {},
   "outputs": [],
   "source": []
  },
  {
   "cell_type": "code",
   "execution_count": null,
   "metadata": {},
   "outputs": [],
   "source": []
  },
  {
   "cell_type": "markdown",
   "metadata": {},
   "source": [
    "## 36. Let's say you have to call a few people about being in a profession dominated by the other gender. What are their phone numbers?\n",
    "\n",
    "This will involve doing some research in one dataframe, then the other one. I didn't put an answer here because I'm interested in what you come up with!"
   ]
  },
  {
   "cell_type": "code",
   "execution_count": null,
   "metadata": {},
   "outputs": [],
   "source": []
  },
  {
   "cell_type": "code",
   "execution_count": null,
   "metadata": {},
   "outputs": [],
   "source": []
  },
  {
   "cell_type": "markdown",
   "metadata": {},
   "source": [
    "## PART FIVE: Violations\n",
    "\n",
    "### 37. Read in **violations.csv** as `violations_df`, make sure it looks right"
   ]
  },
  {
   "cell_type": "code",
   "execution_count": null,
   "metadata": {},
   "outputs": [],
   "source": []
  },
  {
   "cell_type": "markdown",
   "metadata": {},
   "source": [
    "### 38. Combine with your original licenses dataset dataframe to get phone numbers and addresses for each violation. Check that it is 90 rows, 28 columns."
   ]
  },
  {
   "cell_type": "code",
   "execution_count": null,
   "metadata": {},
   "outputs": [],
   "source": []
  },
  {
   "cell_type": "code",
   "execution_count": null,
   "metadata": {},
   "outputs": [],
   "source": []
  },
  {
   "cell_type": "markdown",
   "metadata": {},
   "source": [
    "## 39. Find each violation involving a failure with records. Use a regular expression."
   ]
  },
  {
   "cell_type": "code",
   "execution_count": null,
   "metadata": {},
   "outputs": [],
   "source": []
  },
  {
   "cell_type": "markdown",
   "metadata": {},
   "source": [
    "## 40. How much money was each fine? Use a regular expression and .str.extract (we talked about it before!)\n",
    "\n",
    "Unfortunately large and helpful troubleshooting tip: `$` means \"end of a line\" in regex, so `.extract` isn't going to accept it as a dollar sign. You need to escape it by using `\\$` instead."
   ]
  },
  {
   "cell_type": "code",
   "execution_count": null,
   "metadata": {},
   "outputs": [],
   "source": []
  },
  {
   "cell_type": "markdown",
   "metadata": {},
   "source": [
    "## 41. Clean those results (no commas, no dollar signs, and it should be an integer) and save it to a new column called `fine`\n",
    "\n",
    "`.replace` is for *entire cells*, you're interested in `.str.replace`, which treats each value like a string, not like a... pandas thing.\n",
    "\n",
    "`.astype(int)` will convert it into an integer for you."
   ]
  },
  {
   "cell_type": "code",
   "execution_count": null,
   "metadata": {},
   "outputs": [],
   "source": []
  },
  {
   "cell_type": "markdown",
   "metadata": {},
   "source": [
    "## 42. Which orders results in the top fines?"
   ]
  },
  {
   "cell_type": "code",
   "execution_count": null,
   "metadata": {},
   "outputs": [],
   "source": []
  },
  {
   "cell_type": "markdown",
   "metadata": {},
   "source": [
    "## 43. Are you still here???\n",
    "\n",
    "I'm sure impressed."
   ]
  },
  {
   "cell_type": "code",
   "execution_count": null,
   "metadata": {},
   "outputs": [],
   "source": []
  }
 ],
 "metadata": {
  "kernelspec": {
   "display_name": "Python 3",
   "language": "python",
   "name": "python3"
  },
  "language_info": {
   "codemirror_mode": {
    "name": "ipython",
    "version": 3
   },
   "file_extension": ".py",
   "mimetype": "text/x-python",
   "name": "python",
   "nbconvert_exporter": "python",
   "pygments_lexer": "ipython3",
   "version": "3.6.7"
  }
 },
 "nbformat": 4,
 "nbformat_minor": 2
}
